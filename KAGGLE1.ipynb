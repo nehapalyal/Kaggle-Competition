{
 "cells": [
  {
   "cell_type": "code",
   "execution_count": 1,
   "id": "691fc1df",
   "metadata": {
    "_cell_guid": "b1076dfc-b9ad-4769-8c92-a6c4dae69d19",
    "_uuid": "8f2839f25d086af736a60e9eeb907d3b93b6e0e5",
    "execution": {
     "iopub.execute_input": "2025-07-18T15:26:29.236074Z",
     "iopub.status.busy": "2025-07-18T15:26:29.235729Z",
     "iopub.status.idle": "2025-07-18T15:26:31.270709Z",
     "shell.execute_reply": "2025-07-18T15:26:31.269565Z"
    },
    "papermill": {
     "duration": 2.048479,
     "end_time": "2025-07-18T15:26:31.272867",
     "exception": false,
     "start_time": "2025-07-18T15:26:29.224388",
     "status": "completed"
    },
    "tags": []
   },
   "outputs": [
    {
     "name": "stdout",
     "output_type": "stream",
     "text": [
      "/kaggle/input/engage-2-value-from-clicks-to-conversions/sample_submission.csv\n",
      "/kaggle/input/engage-2-value-from-clicks-to-conversions/train_data.csv\n",
      "/kaggle/input/engage-2-value-from-clicks-to-conversions/test_data.csv\n"
     ]
    }
   ],
   "source": [
    "# This Python 3 environment comes with many helpful analytics libraries installed\n",
    "# It is defined by the kaggle/python Docker image: https://github.com/kaggle/docker-python\n",
    "# For example, here's several helpful packages to load\n",
    "\n",
    "import numpy as np # linear algebra\n",
    "import pandas as pd # data processing, CSV file I/O (e.g. pd.read_csv)\n",
    "\n",
    "# Input data files are available in the read-only \"../input/\" directory\n",
    "# For example, running this (by clicking run or pressing Shift+Enter) will list all files under the input directory\n",
    "\n",
    "import os\n",
    "for dirname, _, filenames in os.walk('/kaggle/input'):\n",
    "    for filename in filenames:\n",
    "        print(os.path.join(dirname, filename))\n",
    "\n",
    "# You can write up to 20GB to the current directory (/kaggle/working/) that gets preserved as output when you create a version using \"Save & Run All\" \n",
    "# You can also write temporary files to /kaggle/temp/, but they won't be saved outside of the current session"
   ]
  },
  {
   "cell_type": "code",
   "execution_count": 2,
   "id": "7351087d",
   "metadata": {
    "execution": {
     "iopub.execute_input": "2025-07-18T15:26:31.295261Z",
     "iopub.status.busy": "2025-07-18T15:26:31.294362Z",
     "iopub.status.idle": "2025-07-18T15:26:40.644779Z",
     "shell.execute_reply": "2025-07-18T15:26:40.643849Z"
    },
    "papermill": {
     "duration": 9.36453,
     "end_time": "2025-07-18T15:26:40.646511",
     "exception": false,
     "start_time": "2025-07-18T15:26:31.281981",
     "status": "completed"
    },
    "tags": []
   },
   "outputs": [],
   "source": [
    "import pandas as pd\n",
    "import numpy as np\n",
    "import os\n",
    "import matplotlib.pyplot as plt\n",
    "import seaborn as sns\n",
    "from sklearn.base import clone\n",
    "from sklearn.metrics import classification_report, roc_auc_score ,r2_score ,mean_absolute_error\n",
    "from sklearn.compose import ColumnTransformer\n",
    "from sklearn.pipeline import Pipeline\n",
    "from sklearn.impute import SimpleImputer\n",
    "from sklearn.preprocessing import OneHotEncoder,FunctionTransformer\n",
    "from sklearn.ensemble import RandomForestRegressor ,RandomForestClassifier ,GradientBoostingRegressor ,StackingRegressor\n",
    "from sklearn.model_selection import train_test_split, KFold\n",
    "from xgboost import XGBRegressor \n",
    "from sklearn.linear_model import Ridge ,LinearRegression, ElasticNet, ElasticNetCV\n",
    "from sklearn.svm import SVR\n",
    "from sklearn.neighbors import KNeighborsRegressor\n",
    "from lightgbm import LGBMRegressor\n",
    "import warnings\n",
    "from sklearn.exceptions import ConvergenceWarning\n",
    "warnings.filterwarnings(\"ignore\", category=UserWarning)\n",
    "warnings.filterwarnings(\"ignore\", category=FutureWarning)\n",
    "warnings.filterwarnings(\"ignore\", category=ConvergenceWarning)\n"
   ]
  },
  {
   "cell_type": "code",
   "execution_count": 3,
   "id": "c688b886",
   "metadata": {
    "execution": {
     "iopub.execute_input": "2025-07-18T15:26:40.664563Z",
     "iopub.status.busy": "2025-07-18T15:26:40.663151Z",
     "iopub.status.idle": "2025-07-18T15:26:44.216551Z",
     "shell.execute_reply": "2025-07-18T15:26:44.215619Z"
    },
    "papermill": {
     "duration": 3.5641,
     "end_time": "2025-07-18T15:26:44.218568",
     "exception": false,
     "start_time": "2025-07-18T15:26:40.654468",
     "status": "completed"
    },
    "tags": []
   },
   "outputs": [],
   "source": [
    "df = pd.read_csv('/kaggle/input/engage-2-value-from-clicks-to-conversions/train_data.csv')\n",
    "pd.set_option('display.max_columns', None)\n",
    "test_df = pd.read_csv('/kaggle/input/engage-2-value-from-clicks-to-conversions/test_data.csv')\n",
    "df.replace('(not set)', np.nan, inplace=True)\n",
    "test_df.replace('(not set)', np.nan, inplace=True)"
   ]
  },
  {
   "cell_type": "code",
   "execution_count": 4,
   "id": "bea271cc",
   "metadata": {
    "execution": {
     "iopub.execute_input": "2025-07-18T15:26:44.240426Z",
     "iopub.status.busy": "2025-07-18T15:26:44.240033Z",
     "iopub.status.idle": "2025-07-18T15:26:44.254419Z",
     "shell.execute_reply": "2025-07-18T15:26:44.253509Z"
    },
    "papermill": {
     "duration": 0.024961,
     "end_time": "2025-07-18T15:26:44.255990",
     "exception": false,
     "start_time": "2025-07-18T15:26:44.231029",
     "status": "completed"
    },
    "tags": []
   },
   "outputs": [
    {
     "data": {
      "text/plain": [
       "(29006, 51)"
      ]
     },
     "execution_count": 4,
     "metadata": {},
     "output_type": "execute_result"
    }
   ],
   "source": [
    "test_stack = test_df.copy()\n",
    "test_stack.shape"
   ]
  },
  {
   "cell_type": "code",
   "execution_count": 5,
   "id": "c4a940f4",
   "metadata": {
    "execution": {
     "iopub.execute_input": "2025-07-18T15:26:44.273415Z",
     "iopub.status.busy": "2025-07-18T15:26:44.272753Z",
     "iopub.status.idle": "2025-07-18T15:26:44.336700Z",
     "shell.execute_reply": "2025-07-18T15:26:44.335831Z"
    },
    "papermill": {
     "duration": 0.074288,
     "end_time": "2025-07-18T15:26:44.338368",
     "exception": false,
     "start_time": "2025-07-18T15:26:44.264080",
     "status": "completed"
    },
    "tags": []
   },
   "outputs": [
    {
     "name": "stdout",
     "output_type": "stream",
     "text": [
      "X - shape : (116023, 51)\n",
      "y - shape : (116023,)\n"
     ]
    }
   ],
   "source": [
    "y = df.iloc[:, 1]      # second column as target\n",
    "X = df.drop(df.columns[1], axis=1)  # drop second column from features\n",
    "\n",
    "print('X - shape :', X.shape)\n",
    "print('y - shape :', y.shape)"
   ]
  },
  {
   "cell_type": "code",
   "execution_count": 6,
   "id": "51248755",
   "metadata": {
    "execution": {
     "iopub.execute_input": "2025-07-18T15:26:44.362645Z",
     "iopub.status.busy": "2025-07-18T15:26:44.361849Z",
     "iopub.status.idle": "2025-07-18T15:26:45.338206Z",
     "shell.execute_reply": "2025-07-18T15:26:45.337258Z"
    },
    "papermill": {
     "duration": 0.986802,
     "end_time": "2025-07-18T15:26:45.339752",
     "exception": false,
     "start_time": "2025-07-18T15:26:44.352950",
     "status": "completed"
    },
    "tags": []
   },
   "outputs": [
    {
     "data": {
      "image/png": "[encoded data removed]",
      "text/plain": [
       "<Figure size 640x480 with 1 Axes>"
      ]
     },
     "metadata": {},
     "output_type": "display_data"
    },
    {
     "name": "stdout",
     "output_type": "stream",
     "text": [
      "Zero purchase values: 92038\n",
      "Non-zero purchase values: 23985\n",
      "Total samples: 116023\n"
     ]
    }
   ],
   "source": [
    "sns.histplot(y, bins=100, kde=True)\n",
    "plt.title(\"Distribution of Log-Transformed Target (purchaseValue)\")\n",
    "plt.xlabel(\"Log(purchaseValue + 1)\")\n",
    "plt.ylabel(\"Frequency\")\n",
    "plt.show()\n",
    "\n",
    "# Let's also see how many are zeros\n",
    "print(\"Zero purchase values:\", (y == 0).sum())\n",
    "print(\"Non-zero purchase values:\", (y != 0).sum())\n",
    "print(\"Total samples:\", len(y))"
   ]
  },
  {
   "cell_type": "markdown",
   "id": "394d51b8",
   "metadata": {
    "papermill": {
     "duration": 0.008193,
     "end_time": "2025-07-18T15:26:45.356831",
     "exception": false,
     "start_time": "2025-07-18T15:26:45.348638",
     "status": "completed"
    },
    "tags": []
   },
   "source": [
    "**~79% of data has zero purchaseValue (92,038 out of 116,023). That’s huge!**\n",
    "Trying to predict a continuous variable (purchaseValue) using regression. But if most values are zero, the model is learning “just predict zero” as the safest bet — which is why your R² is low. It’s overwhelmed by the imbalance."
   ]
  },
  {
   "cell_type": "code",
   "execution_count": 7,
   "id": "ea826672",
   "metadata": {
    "execution": {
     "iopub.execute_input": "2025-07-18T15:26:45.375143Z",
     "iopub.status.busy": "2025-07-18T15:26:45.374867Z",
     "iopub.status.idle": "2025-07-18T15:26:45.388931Z",
     "shell.execute_reply": "2025-07-18T15:26:45.388067Z"
    },
    "papermill": {
     "duration": 0.025163,
     "end_time": "2025-07-18T15:26:45.390324",
     "exception": false,
     "start_time": "2025-07-18T15:26:45.365161",
     "status": "completed"
    },
    "tags": []
   },
   "outputs": [
    {
     "data": {
      "text/plain": [
       "made_purchase\n",
       "0    0.793274\n",
       "1    0.206726\n",
       "Name: proportion, dtype: float64"
      ]
     },
     "execution_count": 7,
     "metadata": {},
     "output_type": "execute_result"
    }
   ],
   "source": [
    "# Add binary target column for classification\n",
    "df['made_purchase'] = (df['purchaseValue'] > 0).astype(int)\n",
    "\n",
    "# Check balance\n",
    "df['made_purchase'].value_counts(normalize=True)"
   ]
  },
  {
   "cell_type": "code",
   "execution_count": 8,
   "id": "6d056553",
   "metadata": {
    "execution": {
     "iopub.execute_input": "2025-07-18T15:26:45.409334Z",
     "iopub.status.busy": "2025-07-18T15:26:45.408774Z",
     "iopub.status.idle": "2025-07-18T15:26:45.525371Z",
     "shell.execute_reply": "2025-07-18T15:26:45.524354Z"
    },
    "papermill": {
     "duration": 0.127723,
     "end_time": "2025-07-18T15:26:45.526953",
     "exception": false,
     "start_time": "2025-07-18T15:26:45.399230",
     "status": "completed"
    },
    "tags": []
   },
   "outputs": [
    {
     "name": "stdout",
     "output_type": "stream",
     "text": [
      "X_train - shape :  (87017, 51)\n",
      "X_test - shape :  (29006, 51)\n",
      "y_train - shape :  (87017,)\n",
      "y_test - shape :  (29006,)\n"
     ]
    }
   ],
   "source": [
    "X_train, X_test, y_train, y_test = train_test_split(X, y, test_size=0.25, random_state=42)\n",
    "print('X_train - shape : ',X_train.shape)\n",
    "print('X_test - shape : ',X_test.shape)\n",
    "print('y_train - shape : ',y_train.shape)\n",
    "print('y_test - shape : ',y_test.shape)"
   ]
  },
  {
   "cell_type": "code",
   "execution_count": 9,
   "id": "7b747008",
   "metadata": {
    "execution": {
     "iopub.execute_input": "2025-07-18T15:26:45.545436Z",
     "iopub.status.busy": "2025-07-18T15:26:45.545099Z",
     "iopub.status.idle": "2025-07-18T15:26:45.549408Z",
     "shell.execute_reply": "2025-07-18T15:26:45.548691Z"
    },
    "papermill": {
     "duration": 0.015353,
     "end_time": "2025-07-18T15:26:45.550947",
     "exception": false,
     "start_time": "2025-07-18T15:26:45.535594",
     "status": "completed"
    },
    "tags": []
   },
   "outputs": [],
   "source": [
    "# num_cols = X.select_dtypes(include=['int64','float64']).columns\n",
    "# cat_cols = X.select_dtypes(include=['object']).columns\n",
    "# log_cols = ['pageViews', 'totalHits']\n",
    "# # Imputers\n",
    "# # FunctionTransformer for log1p\n",
    "# log_pipeline = Pipeline([\n",
    "#     ('imputer', SimpleImputer(strategy='mean')),\n",
    "#     ('log', FunctionTransformer(np.log1p, validate=True))\n",
    "# ])\n",
    "\n",
    "# # Imputer for numerical (excluding log columns)\n",
    "# num_imputer = SimpleImputer(strategy='mean')\n",
    "# # Pipeline for numerical columns\n",
    "# num_pipeline = Pipeline([\n",
    "#     ('imputer', num_imputer)\n",
    "# ])\n",
    "# cat_imputer = Pipeline([\n",
    "#     ('imputer', SimpleImputer(strategy='most_frequent')),\n",
    "#     ('encoder', OneHotEncoder(handle_unknown='ignore'))\n",
    "# ])\n",
    "# # Preprocessor\n",
    "# preprocessor = ColumnTransformer(transformers=[\n",
    "#     ('num', num_pipeline, num_cols),\n",
    "#     ('cat', cat_imputer, cat_cols),\n",
    "#     ('log', log_pipeline, log_cols)  # log-transform pageViews, totalHits\n",
    "# ])"
   ]
  },
  {
   "cell_type": "markdown",
   "id": "48291116",
   "metadata": {
    "papermill": {
     "duration": 0.008669,
     "end_time": "2025-07-18T15:26:45.568795",
     "exception": false,
     "start_time": "2025-07-18T15:26:45.560126",
     "status": "completed"
    },
    "tags": []
   },
   "source": [
    "# New flow "
   ]
  },
  {
   "cell_type": "markdown",
   "id": "a2be0a1e",
   "metadata": {
    "papermill": {
     "duration": 0.008208,
     "end_time": "2025-07-18T15:26:45.585625",
     "exception": false,
     "start_time": "2025-07-18T15:26:45.577417",
     "status": "completed"
    },
    "tags": []
   },
   "source": [
    "**Classifier Part**"
   ]
  },
  {
   "cell_type": "code",
   "execution_count": 10,
   "id": "89776538",
   "metadata": {
    "execution": {
     "iopub.execute_input": "2025-07-18T15:26:45.604211Z",
     "iopub.status.busy": "2025-07-18T15:26:45.603876Z",
     "iopub.status.idle": "2025-07-18T15:26:45.608417Z",
     "shell.execute_reply": "2025-07-18T15:26:45.607616Z"
    },
    "papermill": {
     "duration": 0.015633,
     "end_time": "2025-07-18T15:26:45.609815",
     "exception": false,
     "start_time": "2025-07-18T15:26:45.594182",
     "status": "completed"
    },
    "tags": []
   },
   "outputs": [],
   "source": [
    "# # Define target for classifier\n",
    "# y_class = df['made_purchase']\n",
    "# X_class = df.drop(columns=['purchaseValue', 'made_purchase'])\n",
    "\n",
    "# # Train-test split\n",
    "# X_train_cls, X_test_cls, y_train_cls, y_test_cls = train_test_split(X_class, y_class, test_size=0.25, random_state=42, stratify=y_class)\n",
    "\n",
    "# # Reuse your preprocessor pipeline\n",
    "# pipeline_classifier = Pipeline([\n",
    "#     ('preprocessing', preprocessor),\n",
    "#     ('model', RandomForestClassifier(random_state=42))\n",
    "# ])\n",
    "\n",
    "# # Train classifier\n",
    "# pipeline_classifier.fit(X_train_cls, y_train_cls)\n",
    "\n",
    "# # Evaluate\n",
    "# print('X_test shape : ', X_test_cls.shape)\n",
    "# y_pred_cls = pipeline_classifier.predict(X_test_cls)\n",
    "# print('y_pred shape : ', y_pred_cls.shape)\n",
    "# y_proba_cls = pipeline_classifier.predict_proba(X_test_cls)[:, 1]\n",
    "# print('y_proba_cls shape : ', y_proba_cls.shape)\n",
    "\n",
    "# print(classification_report(y_test_cls, y_pred_cls))\n",
    "# print(\"ROC AUC Score:\", roc_auc_score(y_test_cls, y_proba_cls))\n",
    "\n",
    "# # Save fitted pipeline components immediately\n",
    "# fitted_clf_model = pipeline_classifier.named_steps['model']\n",
    "# fitted_preprocessor = pipeline_classifier.named_steps['preprocessing']"
   ]
  },
  {
   "cell_type": "code",
   "execution_count": 11,
   "id": "9a11b333",
   "metadata": {
    "execution": {
     "iopub.execute_input": "2025-07-18T15:26:45.629124Z",
     "iopub.status.busy": "2025-07-18T15:26:45.628767Z",
     "iopub.status.idle": "2025-07-18T15:26:45.632855Z",
     "shell.execute_reply": "2025-07-18T15:26:45.632028Z"
    },
    "papermill": {
     "duration": 0.015602,
     "end_time": "2025-07-18T15:26:45.634225",
     "exception": false,
     "start_time": "2025-07-18T15:26:45.618623",
     "status": "completed"
    },
    "tags": []
   },
   "outputs": [],
   "source": [
    "# # Align test_df to classifier training columns\n",
    "# test_df_aligned = test_df.copy()\n",
    "\n",
    "# # Add any missing columns (in case test_df doesn't have them)\n",
    "# for col in X_class.columns:\n",
    "#     if col not in test_df_aligned.columns:\n",
    "#         test_df_aligned[col] = np.nan\n",
    "\n",
    "# # Drop any extra columns\n",
    "# test_df_aligned = test_df_aligned[X_class.columns]\n",
    "# test_df_aligned.shape\n"
   ]
  },
  {
   "cell_type": "code",
   "execution_count": 12,
   "id": "93740e90",
   "metadata": {
    "execution": {
     "iopub.execute_input": "2025-07-18T15:26:45.652656Z",
     "iopub.status.busy": "2025-07-18T15:26:45.652332Z",
     "iopub.status.idle": "2025-07-18T15:26:45.656041Z",
     "shell.execute_reply": "2025-07-18T15:26:45.655325Z"
    },
    "papermill": {
     "duration": 0.014608,
     "end_time": "2025-07-18T15:26:45.657452",
     "exception": false,
     "start_time": "2025-07-18T15:26:45.642844",
     "status": "completed"
    },
    "tags": []
   },
   "outputs": [],
   "source": [
    "# X_test_transformed = fitted_preprocessor.transform(test_df_aligned)\n",
    "# print(X_test_transformed.shape)\n",
    "# purchase_proba = fitted_clf_model.predict_proba(X_test_transformed)[:, 1]\n",
    "# print(purchase_proba.shape)\n",
    "# threshold = 0.5  # We can tune this later\n",
    "# will_purchase = purchase_proba >= threshold"
   ]
  },
  {
   "cell_type": "markdown",
   "id": "f1aacb05",
   "metadata": {
    "papermill": {
     "duration": 0.072196,
     "end_time": "2025-07-18T15:26:45.738677",
     "exception": false,
     "start_time": "2025-07-18T15:26:45.666481",
     "status": "completed"
    },
    "tags": []
   },
   "source": [
    "**Regression Part**"
   ]
  },
  {
   "cell_type": "code",
   "execution_count": 13,
   "id": "afa7e4bd",
   "metadata": {
    "execution": {
     "iopub.execute_input": "2025-07-18T15:26:45.756955Z",
     "iopub.status.busy": "2025-07-18T15:26:45.756650Z",
     "iopub.status.idle": "2025-07-18T15:26:45.760749Z",
     "shell.execute_reply": "2025-07-18T15:26:45.760011Z"
    },
    "papermill": {
     "duration": 0.014869,
     "end_time": "2025-07-18T15:26:45.762163",
     "exception": false,
     "start_time": "2025-07-18T15:26:45.747294",
     "status": "completed"
    },
    "tags": []
   },
   "outputs": [],
   "source": [
    "# # Filter only those sessions where a purchase was made\n",
    "# df_reg = df[df['purchaseValue'] > 0].copy()\n",
    "\n",
    "\n",
    "# y_reg = np.log1p(df_reg['purchaseValue']) \n",
    "# X_reg = df_reg.drop(columns=['purchaseValue', 'made_purchase'])\n",
    "\n",
    "# # Train-test split for regression\n",
    "# from sklearn.model_selection import train_test_split\n",
    "# X_train_reg, X_test_reg, y_train_reg, y_test_reg = train_test_split(X_reg, y_reg, test_size=0.25, random_state=42)\n",
    "\n",
    "# preprocessor_reg = clone(preprocessor)\n",
    "# pipeline_regressor = Pipeline([\n",
    "#     ('preprocessing', preprocessor_reg),\n",
    "#     ('model', XGBRegressor(random_state=42))\n",
    "# ])\n",
    "\n",
    "# pipeline_regressor.fit(X_train_reg, y_train_reg)\n",
    "\n",
    "# # Predict and evaluate\n",
    "# from sklearn.metrics import r2_score, mean_absolute_error\n",
    "# y_pred_reg = pipeline_regressor.predict(X_test_reg)\n",
    "\n",
    "# print(\"R² Score:\", r2_score(y_test_reg, y_pred_reg))\n",
    "# print(\"MAE:\", mean_absolute_error(np.expm1(y_test_reg), np.expm1(y_pred_reg)))  \n"
   ]
  },
  {
   "cell_type": "code",
   "execution_count": 14,
   "id": "43ff2974",
   "metadata": {
    "execution": {
     "iopub.execute_input": "2025-07-18T15:26:45.782274Z",
     "iopub.status.busy": "2025-07-18T15:26:45.781388Z",
     "iopub.status.idle": "2025-07-18T15:26:45.785556Z",
     "shell.execute_reply": "2025-07-18T15:26:45.784835Z"
    },
    "papermill": {
     "duration": 0.015676,
     "end_time": "2025-07-18T15:26:45.787242",
     "exception": false,
     "start_time": "2025-07-18T15:26:45.771566",
     "status": "completed"
    },
    "tags": []
   },
   "outputs": [],
   "source": [
    "# # Extract fitted regressor and its preprocessor\n",
    "# fitted_preprocessor_reg = pipeline_regressor.named_steps['preprocessing']\n",
    "# fitted_reg_model = pipeline_regressor.named_steps['model']\n",
    "\n",
    "\n",
    "# # Only rows where purchase is likely\n",
    "# test_df_buyers = test_df[will_purchase]\n",
    "\n",
    "# # Preprocess and predict\n",
    "# X_reg_input = fitted_preprocessor_reg.transform(test_df_buyers)\n",
    "# purchase_preds = np.expm1(fitted_reg_model.predict(X_reg_input))\n"
   ]
  },
  {
   "cell_type": "code",
   "execution_count": 15,
   "id": "7d5a9992",
   "metadata": {
    "execution": {
     "iopub.execute_input": "2025-07-18T15:26:45.806644Z",
     "iopub.status.busy": "2025-07-18T15:26:45.806319Z",
     "iopub.status.idle": "2025-07-18T15:26:45.810060Z",
     "shell.execute_reply": "2025-07-18T15:26:45.809324Z"
    },
    "papermill": {
     "duration": 0.014651,
     "end_time": "2025-07-18T15:26:45.811407",
     "exception": false,
     "start_time": "2025-07-18T15:26:45.796756",
     "status": "completed"
    },
    "tags": []
   },
   "outputs": [],
   "source": [
    "# #Start with zeros\n",
    "# final_preds = np.zeros(len(test_df))\n",
    "# final_preds[will_purchase] = purchase_preds\n",
    "# print(final_preds.shape)"
   ]
  },
  {
   "cell_type": "code",
   "execution_count": 16,
   "id": "5f32b735",
   "metadata": {
    "execution": {
     "iopub.execute_input": "2025-07-18T15:26:45.830977Z",
     "iopub.status.busy": "2025-07-18T15:26:45.829935Z",
     "iopub.status.idle": "2025-07-18T15:26:45.834175Z",
     "shell.execute_reply": "2025-07-18T15:26:45.833293Z"
    },
    "papermill": {
     "duration": 0.015405,
     "end_time": "2025-07-18T15:26:45.835664",
     "exception": false,
     "start_time": "2025-07-18T15:26:45.820259",
     "status": "completed"
    },
    "tags": []
   },
   "outputs": [],
   "source": [
    "# sns.histplot(np.log1p(purchase_preds), bins=100, kde=True)\n",
    "# plt.show()"
   ]
  },
  {
   "cell_type": "code",
   "execution_count": 17,
   "id": "5f6bfbd9",
   "metadata": {
    "execution": {
     "iopub.execute_input": "2025-07-18T15:26:45.855058Z",
     "iopub.status.busy": "2025-07-18T15:26:45.854746Z",
     "iopub.status.idle": "2025-07-18T15:26:45.858937Z",
     "shell.execute_reply": "2025-07-18T15:26:45.858206Z"
    },
    "papermill": {
     "duration": 0.015577,
     "end_time": "2025-07-18T15:26:45.860281",
     "exception": false,
     "start_time": "2025-07-18T15:26:45.844704",
     "status": "completed"
    },
    "tags": []
   },
   "outputs": [],
   "source": [
    "# thresholds = np.arange(0.1, 0.91, 0.05)\n",
    "# results = []\n",
    "\n",
    "# for t in thresholds:\n",
    "#     preds = y_proba_cls >= t\n",
    "#     precision, recall, f1, _ = precision_recall_fscore_support(y_test_cls, preds, average='binary')\n",
    "#     results.append((t, precision, recall, f1))\n",
    "\n",
    "# # Convert to DataFrame for easy plotting\n",
    "# import pandas as pd\n",
    "# results_df = pd.DataFrame(results, columns=['threshold', 'precision', 'recall', 'f1'])\n",
    "\n",
    "# # Plot\n",
    "# import matplotlib.pyplot as plt\n",
    "# plt.figure(figsize=(10, 6))\n",
    "# plt.plot(results_df['threshold'], results_df['precision'], label='Precision')\n",
    "# plt.plot(results_df['threshold'], results_df['recall'], label='Recall')\n",
    "# plt.plot(results_df['threshold'], results_df['f1'], label='F1-score')\n",
    "# plt.xlabel('Threshold')\n",
    "# plt.ylabel('Score')\n",
    "# plt.title('Classifier Performance at Different Thresholds')\n",
    "# plt.legend()\n",
    "# plt.grid(True)\n",
    "# plt.show()\n",
    "\n",
    "# results_df"
   ]
  },
  {
   "cell_type": "markdown",
   "id": "e11e30a9",
   "metadata": {
    "papermill": {
     "duration": 0.008525,
     "end_time": "2025-07-18T15:26:45.877644",
     "exception": false,
     "start_time": "2025-07-18T15:26:45.869119",
     "status": "completed"
    },
    "tags": []
   },
   "source": [
    "**Checking feature importances**"
   ]
  },
  {
   "cell_type": "code",
   "execution_count": 18,
   "id": "945d71bf",
   "metadata": {
    "execution": {
     "iopub.execute_input": "2025-07-18T15:26:45.897151Z",
     "iopub.status.busy": "2025-07-18T15:26:45.896408Z",
     "iopub.status.idle": "2025-07-18T15:26:45.901163Z",
     "shell.execute_reply": "2025-07-18T15:26:45.900313Z"
    },
    "papermill": {
     "duration": 0.016105,
     "end_time": "2025-07-18T15:26:45.902694",
     "exception": false,
     "start_time": "2025-07-18T15:26:45.886589",
     "status": "completed"
    },
    "tags": []
   },
   "outputs": [],
   "source": [
    "# # Get correct transformers\n",
    "# num_features = preprocessor.transformers_[0][2]  # 'num'\n",
    "# cat_features = preprocessor.transformers_[1][2]  # 'cat'\n",
    "\n",
    "# # Get encoder from categorical pipeline\n",
    "# cat_pipeline = preprocessor.transformers_[1][1]  # this is the cat_imputer pipeline\n",
    "# ohe = cat_pipeline.named_steps['encoder']        # now this will work ✅\n",
    "\n",
    "# # Get all OHE feature names\n",
    "# ohe_feature_names = ohe.get_feature_names_out(cat_features)\n",
    "\n",
    "# # Merge with numerical + log columns\n",
    "# all_feature_names = list(ohe_feature_names) + list(num_features) + list(log_cols)\n",
    "# # Extract feature importances from the classifier (fitted already)\n",
    "# clf_model = pipeline_classifier.named_steps['model']\n",
    "# importances = clf_model.feature_importances_\n",
    "\n",
    "# feat_imp_df = pd.DataFrame({'feature': all_feature_names, 'importance': importances})\n",
    "# feat_imp_df = feat_imp_df.sort_values(by='importance', ascending=False)\n",
    "\n",
    "# #Visualize top 30 features\n",
    "# # plt.figure(figsize=(10, 12))\n",
    "# # plt.barh(feat_imp_df.head(30).iloc[::-1]['feature'], feat_imp_df.head(30).iloc[::-1]['importance'])\n",
    "# # plt.title(\"Top 30 Important Features\")\n",
    "# # plt.xlabel(\"Importance\")\n",
    "# # plt.tight_layout()\n",
    "# # plt.show()\n",
    "# # feat_imp_df.head(20)\n"
   ]
  },
  {
   "cell_type": "code",
   "execution_count": 19,
   "id": "ae94d319",
   "metadata": {
    "execution": {
     "iopub.execute_input": "2025-07-18T15:26:45.922090Z",
     "iopub.status.busy": "2025-07-18T15:26:45.921757Z",
     "iopub.status.idle": "2025-07-18T15:26:45.925845Z",
     "shell.execute_reply": "2025-07-18T15:26:45.925012Z"
    },
    "papermill": {
     "duration": 0.015385,
     "end_time": "2025-07-18T15:26:45.927438",
     "exception": false,
     "start_time": "2025-07-18T15:26:45.912053",
     "status": "completed"
    },
    "tags": []
   },
   "outputs": [],
   "source": [
    "# columns_to_drop = ['sessionId','userId','date','gclIdPresent','totals.bounces','totals.visits','sessionNumber']\n",
    "# df.drop(columns=columns_to_drop, inplace=True)\n",
    "# test_df.drop(columns=columns_to_drop, inplace=True)\n",
    "# print('Training dataset shape : ',df.shape)\n",
    "# print('Test dataset shape : ',test_df.shape)"
   ]
  },
  {
   "cell_type": "markdown",
   "id": "171d8e49",
   "metadata": {
    "papermill": {
     "duration": 0.009189,
     "end_time": "2025-07-18T15:26:45.945774",
     "exception": false,
     "start_time": "2025-07-18T15:26:45.936585",
     "status": "completed"
    },
    "tags": []
   },
   "source": [
    "**Handling bad values**"
   ]
  },
  {
   "cell_type": "code",
   "execution_count": 20,
   "id": "d517f76b",
   "metadata": {
    "execution": {
     "iopub.execute_input": "2025-07-18T15:26:45.965372Z",
     "iopub.status.busy": "2025-07-18T15:26:45.965039Z",
     "iopub.status.idle": "2025-07-18T15:26:45.969274Z",
     "shell.execute_reply": "2025-07-18T15:26:45.968539Z"
    },
    "papermill": {
     "duration": 0.015977,
     "end_time": "2025-07-18T15:26:45.970731",
     "exception": false,
     "start_time": "2025-07-18T15:26:45.954754",
     "status": "completed"
    },
    "tags": []
   },
   "outputs": [],
   "source": [
    "# # Detect numerical, categorical, log-transform-worthy columns\n",
    "# log_cols = ['pageViews', 'totalHits']  # We’ll log1p these\n",
    "# num_cols = df.select_dtypes(include=['int64', 'float64']).columns.difference(log_cols).tolist()\n",
    "# cat_cols = df.select_dtypes(include='object').columns.tolist()\n",
    "\n",
    "# print(\"📊 Numerical cols:\", num_cols)\n",
    "# print(\"📝 Categorical cols:\", cat_cols)\n",
    "# print(\"🔁 Log-transform cols:\", log_cols)\n",
    "\n",
    "# # Check missing values\n",
    "# print(\"\\n🕳️ Missing in NUM cols:\")\n",
    "# print(df[num_cols].isnull().sum().sort_values(ascending=False).head(10))\n",
    "\n",
    "# print(\"\\n🕳️ Missing in CAT cols:\")\n",
    "# print(df[cat_cols].isnull().sum().sort_values(ascending=False).head(10))\n"
   ]
  },
  {
   "cell_type": "markdown",
   "id": "1126f161",
   "metadata": {
    "papermill": {
     "duration": 0.008814,
     "end_time": "2025-07-18T15:26:45.988795",
     "exception": false,
     "start_time": "2025-07-18T15:26:45.979981",
     "status": "completed"
    },
    "tags": []
   },
   "source": [
    "**Feature Extraction**"
   ]
  },
  {
   "cell_type": "code",
   "execution_count": 21,
   "id": "8e8e79b3",
   "metadata": {
    "execution": {
     "iopub.execute_input": "2025-07-18T15:26:46.008859Z",
     "iopub.status.busy": "2025-07-18T15:26:46.008544Z",
     "iopub.status.idle": "2025-07-18T15:26:46.012603Z",
     "shell.execute_reply": "2025-07-18T15:26:46.011701Z"
    },
    "papermill": {
     "duration": 0.016443,
     "end_time": "2025-07-18T15:26:46.014069",
     "exception": false,
     "start_time": "2025-07-18T15:26:45.997626",
     "status": "completed"
    },
    "tags": []
   },
   "outputs": [],
   "source": [
    "# def extract_time_features(df):\n",
    "#     df['sessionStart_dt'] = pd.to_datetime(df['sessionStart'], unit='s')\n",
    "#     df['session_hour'] = df['sessionStart_dt'].dt.hour\n",
    "#     df['session_dayofweek'] = df['sessionStart_dt'].dt.dayofweek\n",
    "#     df['session_month'] = df['sessionStart_dt'].dt.month\n",
    "#     df['is_weekend'] = df['session_dayofweek'].isin([5, 6]).astype(int)\n",
    "#     df.drop(columns=['sessionStart_dt'], inplace=True)\n",
    "#     return df\n",
    "\n",
    "# # Applying\n",
    "# df = extract_time_features(df)\n",
    "# test_df = extract_time_features(test_df)\n"
   ]
  },
  {
   "cell_type": "code",
   "execution_count": 22,
   "id": "c99c4efc",
   "metadata": {
    "execution": {
     "iopub.execute_input": "2025-07-18T15:26:46.033532Z",
     "iopub.status.busy": "2025-07-18T15:26:46.033210Z",
     "iopub.status.idle": "2025-07-18T15:26:46.037289Z",
     "shell.execute_reply": "2025-07-18T15:26:46.036363Z"
    },
    "papermill": {
     "duration": 0.015857,
     "end_time": "2025-07-18T15:26:46.038878",
     "exception": false,
     "start_time": "2025-07-18T15:26:46.023021",
     "status": "completed"
    },
    "tags": []
   },
   "outputs": [],
   "source": [
    "# # Log transformation for pageViews & in Original Dataframe\n",
    "# for col in ['pageViews', 'totalHits']:\n",
    "#     new_col = f'log1p_{col}'\n",
    "#     if new_col not in df.columns:\n",
    "#         df[new_col] = np.log1p(df[col].fillna(0).clip(lower=0))\n",
    "#     if new_col not in test_df.columns:\n",
    "#         test_df[new_col] = np.log1p(test_df[col].fillna(0).clip(lower=0))"
   ]
  },
  {
   "cell_type": "code",
   "execution_count": 23,
   "id": "524f4815",
   "metadata": {
    "execution": {
     "iopub.execute_input": "2025-07-18T15:26:46.057970Z",
     "iopub.status.busy": "2025-07-18T15:26:46.057589Z",
     "iopub.status.idle": "2025-07-18T15:26:46.062070Z",
     "shell.execute_reply": "2025-07-18T15:26:46.061057Z"
    },
    "papermill": {
     "duration": 0.015843,
     "end_time": "2025-07-18T15:26:46.063766",
     "exception": false,
     "start_time": "2025-07-18T15:26:46.047923",
     "status": "completed"
    },
    "tags": []
   },
   "outputs": [],
   "source": [
    "# df['interaction_pageHits'] = df['log1p_pageViews'] * df['log1p_totalHits']\n",
    "# test_df['interaction_pageHits'] = test_df['log1p_pageViews'] * test_df['log1p_totalHits']\n",
    "# if 'sessionDuration' in df.columns:\n",
    "#     df['interaction_pageDuration'] = df['log1p_pageViews'] * df['sessionDuration']\n",
    "#     test_df['interaction_pageDuration'] = test_df['log1p_pageViews'] * test_df['sessionDuration']\n",
    "# df['device_traffic'] = df['deviceType'].astype(str) + '_' + df['trafficSource.medium'].astype(str)\n",
    "# test_df['device_traffic'] = test_df['deviceType'].astype(str) + '_' + test_df['trafficSource.medium'].astype(str)\n",
    "# df['region_browser'] = df['geoNetwork.region'].astype(str) + '_' + df['browserMajor'].astype(str)\n",
    "# test_df['region_browser'] = test_df['geoNetwork.region'].astype(str) + '_' + test_df['browserMajor'].astype(str)"
   ]
  },
  {
   "cell_type": "markdown",
   "id": "20c1e311",
   "metadata": {
    "papermill": {
     "duration": 0.008486,
     "end_time": "2025-07-18T15:26:46.081185",
     "exception": false,
     "start_time": "2025-07-18T15:26:46.072699",
     "status": "completed"
    },
    "tags": []
   },
   "source": [
    "**✅ Step 5: Feature Selection Using Importance**"
   ]
  },
  {
   "cell_type": "code",
   "execution_count": 24,
   "id": "972f404b",
   "metadata": {
    "execution": {
     "iopub.execute_input": "2025-07-18T15:26:46.099750Z",
     "iopub.status.busy": "2025-07-18T15:26:46.099409Z",
     "iopub.status.idle": "2025-07-18T15:26:46.103843Z",
     "shell.execute_reply": "2025-07-18T15:26:46.102975Z"
    },
    "papermill": {
     "duration": 0.015466,
     "end_time": "2025-07-18T15:26:46.105286",
     "exception": false,
     "start_time": "2025-07-18T15:26:46.089820",
     "status": "completed"
    },
    "tags": []
   },
   "outputs": [],
   "source": [
    "# # Set importance threshold\n",
    "# threshold = 0.001\n",
    "\n",
    "# # Get features to drop\n",
    "# low_importance_features = feat_imp_df[feat_imp_df['importance'] < threshold]['feature'].tolist()\n",
    "\n",
    "# print(f\"Dropping {len(low_importance_features)} low-importance features.\")\n",
    "\n",
    "# # Drop from df and test_df safely\n",
    "# df_reduced = df.drop(columns=[col for col in low_importance_features if col in df.columns], errors='ignore')\n",
    "# test_df_reduced = test_df.drop(columns=[col for col in low_importance_features if col in test_df.columns], errors='ignore')\n",
    "\n",
    "# print(\"✅ Reduced df shape:\", df_reduced.shape)\n",
    "# print(\"✅ Reduced test_df shape:\", test_df_reduced.shape)\n"
   ]
  },
  {
   "cell_type": "markdown",
   "id": "237caa07",
   "metadata": {
    "papermill": {
     "duration": 0.008723,
     "end_time": "2025-07-18T15:26:46.122906",
     "exception": false,
     "start_time": "2025-07-18T15:26:46.114183",
     "status": "completed"
    },
    "tags": []
   },
   "source": [
    "**Updated Classifier Part**"
   ]
  },
  {
   "cell_type": "code",
   "execution_count": 25,
   "id": "bd327abe",
   "metadata": {
    "execution": {
     "iopub.execute_input": "2025-07-18T15:26:46.142557Z",
     "iopub.status.busy": "2025-07-18T15:26:46.142232Z",
     "iopub.status.idle": "2025-07-18T15:26:46.146878Z",
     "shell.execute_reply": "2025-07-18T15:26:46.145967Z"
    },
    "papermill": {
     "duration": 0.016175,
     "end_time": "2025-07-18T15:26:46.148571",
     "exception": false,
     "start_time": "2025-07-18T15:26:46.132396",
     "status": "completed"
    },
    "tags": []
   },
   "outputs": [],
   "source": [
    "# # Define target and input\n",
    "# y_class = df_reduced['made_purchase']\n",
    "# X_class = df_reduced.drop(columns=['purchaseValue', 'made_purchase'])\n",
    "\n",
    "# # Train-test split\n",
    "# X_train_cls, X_test_cls, y_train_cls, y_test_cls = train_test_split(X_class, y_class, test_size=0.25, random_state=42, stratify=y_class)\n",
    "\n",
    "# preprocessor_cls = ColumnTransformer(transformers=[\n",
    "#     ('num', SimpleImputer(strategy='mean'), X_class.select_dtypes(include='number').columns.tolist()),\n",
    "#     ('cat', Pipeline([\n",
    "#         ('imputer', SimpleImputer(strategy='most_frequent')),\n",
    "#         ('ohe', OneHotEncoder(handle_unknown='ignore'))\n",
    "#     ]), X_class.select_dtypes(include='object').columns.tolist())\n",
    "# ])\n",
    "\n",
    "# # Classifier pipeline\n",
    "# pipeline_classifier = Pipeline([\n",
    "#     ('preprocessing', preprocessor_cls),\n",
    "#     ('model', RandomForestClassifier(random_state=42))\n",
    "# ])\n",
    "\n",
    "# pipeline_classifier.fit(X_train_cls, y_train_cls)\n",
    "\n",
    "# # Evaluate\n",
    "# y_pred_cls = pipeline_classifier.predict(X_test_cls)\n",
    "# y_proba_cls = pipeline_classifier.predict_proba(X_test_cls)[:, 1]\n",
    "\n",
    "# print(classification_report(y_test_cls, y_pred_cls))\n",
    "# print(\"🎯 ROC AUC Score:\", roc_auc_score(y_test_cls, y_proba_cls))\n"
   ]
  },
  {
   "cell_type": "markdown",
   "id": "0e1b3887",
   "metadata": {
    "papermill": {
     "duration": 0.008479,
     "end_time": "2025-07-18T15:26:46.166430",
     "exception": false,
     "start_time": "2025-07-18T15:26:46.157951",
     "status": "completed"
    },
    "tags": []
   },
   "source": [
    "**Updated Regressor Part**"
   ]
  },
  {
   "cell_type": "markdown",
   "id": "b727229d",
   "metadata": {
    "papermill": {
     "duration": 0.008557,
     "end_time": "2025-07-18T15:26:46.183979",
     "exception": false,
     "start_time": "2025-07-18T15:26:46.175422",
     "status": "completed"
    },
    "tags": []
   },
   "source": [
    "**Adding Interaction Features:**"
   ]
  },
  {
   "cell_type": "code",
   "execution_count": 26,
   "id": "322b8594",
   "metadata": {
    "execution": {
     "iopub.execute_input": "2025-07-18T15:26:46.202807Z",
     "iopub.status.busy": "2025-07-18T15:26:46.202452Z",
     "iopub.status.idle": "2025-07-18T15:26:46.206538Z",
     "shell.execute_reply": "2025-07-18T15:26:46.205586Z"
    },
    "papermill": {
     "duration": 0.015531,
     "end_time": "2025-07-18T15:26:46.208343",
     "exception": false,
     "start_time": "2025-07-18T15:26:46.192812",
     "status": "completed"
    },
    "tags": []
   },
   "outputs": [],
   "source": [
    "#  # Filter rows where purchase was made\n",
    "# df_reg = df_reduced[df_reduced['purchaseValue'] > 0].copy()\n",
    "# # Clip target before log-transforming\n",
    "# df_reg['purchaseValue'] = df_reg['purchaseValue'].clip(upper=df_reg['purchaseValue'].quantile(0.99))"
   ]
  },
  {
   "cell_type": "markdown",
   "id": "81f38bdb",
   "metadata": {
    "papermill": {
     "duration": 0.008652,
     "end_time": "2025-07-18T15:26:46.225873",
     "exception": false,
     "start_time": "2025-07-18T15:26:46.217221",
     "status": "completed"
    },
    "tags": []
   },
   "source": [
    "**Target Encoding of High-Cardinality Categorical Columns**"
   ]
  },
  {
   "cell_type": "code",
   "execution_count": 27,
   "id": "a04b64fe",
   "metadata": {
    "execution": {
     "iopub.execute_input": "2025-07-18T15:26:46.245464Z",
     "iopub.status.busy": "2025-07-18T15:26:46.245183Z",
     "iopub.status.idle": "2025-07-18T15:26:46.249468Z",
     "shell.execute_reply": "2025-07-18T15:26:46.248561Z"
    },
    "papermill": {
     "duration": 0.015867,
     "end_time": "2025-07-18T15:26:46.250979",
     "exception": false,
     "start_time": "2025-07-18T15:26:46.235112",
     "status": "completed"
    },
    "tags": []
   },
   "outputs": [],
   "source": [
    "# high_cardinality_cols = ['trafficSource.campaign', 'trafficSource.adContent', 'trafficSource.keyword', 'trafficSource.referralPath']\n",
    "# for col in high_cardinality_cols:\n",
    "#     # Compute means from df_reg\n",
    "#     means = df_reg.groupby(col)['purchaseValue'].mean().apply(np.log1p)\n",
    "\n",
    "#     # Map to df_reg\n",
    "#     df_reg[f'{col}_mean_encoded'] = df_reg[col].map(means)\n",
    "\n",
    "#     # Map to test_df (use same mapping)\n",
    "#     test_df[f'{col}_mean_encoded'] = test_df[col].map(means)\n",
    "\n",
    "#     # Optional: drop the original column\n",
    "#     df_reg.drop(columns=[col], inplace=True)\n",
    "#     test_df.drop(columns=[col], inplace=True)\n"
   ]
  },
  {
   "cell_type": "code",
   "execution_count": 28,
   "id": "52e7a887",
   "metadata": {
    "execution": {
     "iopub.execute_input": "2025-07-18T15:26:46.270412Z",
     "iopub.status.busy": "2025-07-18T15:26:46.270051Z",
     "iopub.status.idle": "2025-07-18T15:26:46.274861Z",
     "shell.execute_reply": "2025-07-18T15:26:46.274168Z"
    },
    "papermill": {
     "duration": 0.016016,
     "end_time": "2025-07-18T15:26:46.276076",
     "exception": false,
     "start_time": "2025-07-18T15:26:46.260060",
     "status": "completed"
    },
    "tags": []
   },
   "outputs": [],
   "source": [
    "# # Log-transform the clipped values\n",
    "# y_reg = np.log1p(df_reg['purchaseValue'])\n",
    "# X_reg = df_reg.drop(columns=['purchaseValue', 'made_purchase'])\n",
    "\n",
    "# # Split data\n",
    "# X_train_reg, X_test_reg, y_train_reg, y_test_reg = train_test_split(X_reg, y_reg, test_size=0.25, random_state=42)\n",
    "\n",
    "# # Define preprocessing\n",
    "# preprocessor_reg = ColumnTransformer(transformers=[\n",
    "#     ('num', SimpleImputer(strategy='mean'), X_reg.select_dtypes(include='number').columns.tolist()),\n",
    "#     ('cat', Pipeline([\n",
    "#         ('imputer', SimpleImputer(strategy='most_frequent')),\n",
    "#         ('ohe', OneHotEncoder(handle_unknown='ignore'))\n",
    "#     ]), X_reg.select_dtypes(include='object').columns.tolist())\n",
    "# ])\n",
    "\n",
    "# X_train_proc = preprocessor_reg.fit_transform(X_train_reg)\n",
    "# X_test_proc = preprocessor_reg.transform(X_test_reg)\n",
    "\n",
    "# # 3. XGBoost with early stopping\n",
    "# model_xgb = XGBRegressor(\n",
    "#     n_estimators=1000,\n",
    "#     learning_rate=0.05,\n",
    "#     max_depth=7,\n",
    "#     subsample=0.8,\n",
    "#     colsample_bytree=0.8,\n",
    "#     random_state=42,\n",
    "#     tree_method='hist',\n",
    "#     early_stopping_rounds=30)\n",
    "\n",
    "# model_xgb.fit(\n",
    "#     X_train_proc, y_train_reg,\n",
    "#     eval_set=[(X_test_proc, y_test_reg)],\n",
    "#     verbose=False)\n",
    "\n",
    "# y_pred = model_xgb.predict(X_test_proc)\n",
    "# print(\"R² Score:\", r2_score(y_test_reg, y_pred))\n",
    "# print(\"MAE:\", mean_absolute_error(np.expm1(y_test_reg), np.expm1(y_pred)))"
   ]
  },
  {
   "cell_type": "markdown",
   "id": "4b0b244e",
   "metadata": {
    "papermill": {
     "duration": 0.008367,
     "end_time": "2025-07-18T15:26:46.293340",
     "exception": false,
     "start_time": "2025-07-18T15:26:46.284973",
     "status": "completed"
    },
    "tags": []
   },
   "source": [
    "**Inference on Actual Dataset**"
   ]
  },
  {
   "cell_type": "code",
   "execution_count": 29,
   "id": "0aa63455",
   "metadata": {
    "execution": {
     "iopub.execute_input": "2025-07-18T15:26:46.312667Z",
     "iopub.status.busy": "2025-07-18T15:26:46.312035Z",
     "iopub.status.idle": "2025-07-18T15:26:46.315680Z",
     "shell.execute_reply": "2025-07-18T15:26:46.314951Z"
    },
    "papermill": {
     "duration": 0.015251,
     "end_time": "2025-07-18T15:26:46.317196",
     "exception": false,
     "start_time": "2025-07-18T15:26:46.301945",
     "status": "completed"
    },
    "tags": []
   },
   "outputs": [],
   "source": [
    "# def add_column(col,test_df_reduced,test_df) :\n",
    "#     test_df_reduced[col] = test_df[col]"
   ]
  },
  {
   "cell_type": "code",
   "execution_count": 30,
   "id": "2effa672",
   "metadata": {
    "execution": {
     "iopub.execute_input": "2025-07-18T15:26:46.336908Z",
     "iopub.status.busy": "2025-07-18T15:26:46.336603Z",
     "iopub.status.idle": "2025-07-18T15:26:46.340677Z",
     "shell.execute_reply": "2025-07-18T15:26:46.339914Z"
    },
    "papermill": {
     "duration": 0.015921,
     "end_time": "2025-07-18T15:26:46.342071",
     "exception": false,
     "start_time": "2025-07-18T15:26:46.326150",
     "status": "completed"
    },
    "tags": []
   },
   "outputs": [],
   "source": [
    "# # Get probability of purchase (Classifier Part)\n",
    "# purchase_proba = pipeline_classifier.predict_proba(test_df_reduced)[:, 1]\n",
    "# threshold = 0.45\n",
    "# will_purchase = purchase_proba >= threshold\n",
    "\n",
    "# # Preprocessing test data for (Regression part)\n",
    "# cols = ['trafficSource.campaign_mean_encoded', 'trafficSource.adContent_mean_encoded', 'trafficSource.keyword_mean_encoded', 'trafficSource.referralPath_mean_encoded']\n",
    "# for col in cols :\n",
    "#     add_column(col,test_df_reduced,test_df)\n",
    "# # Filter buyers\n",
    "# test_buyers = test_df_reduced[will_purchase]\n",
    "\n",
    "# # Reduce columns to those used in regression\n",
    "# X_reg_cols = df_reg.drop(columns=['purchaseValue', 'made_purchase']).columns\n",
    "# test_buyers_reduced = test_buyers[X_reg_cols]\n",
    "\n",
    "# # (Regression Part)\n",
    "# X_test_reg_transformed = preprocessor_reg.transform(test_buyers_reduced)\n",
    "# purchase_preds = np.expm1(model_xgb.predict(X_test_reg_transformed))\n",
    "\n",
    "# # Final prediction array\n",
    "# final_preds = np.zeros(len(test_df_reduced))\n",
    "# final_preds[will_purchase] = purchase_preds\n"
   ]
  },
  {
   "cell_type": "code",
   "execution_count": 31,
   "id": "bf02e69b",
   "metadata": {
    "execution": {
     "iopub.execute_input": "2025-07-18T15:26:46.361554Z",
     "iopub.status.busy": "2025-07-18T15:26:46.361217Z",
     "iopub.status.idle": "2025-07-18T15:26:46.365089Z",
     "shell.execute_reply": "2025-07-18T15:26:46.364299Z"
    },
    "papermill": {
     "duration": 0.015273,
     "end_time": "2025-07-18T15:26:46.366377",
     "exception": false,
     "start_time": "2025-07-18T15:26:46.351104",
     "status": "completed"
    },
    "tags": []
   },
   "outputs": [],
   "source": [
    "# # Step 5: Create submission file\n",
    "# submission = pd.DataFrame({\n",
    "#     'id': range(len(test_df)),\n",
    "#     'purchaseValue': final_preds\n",
    "# })\n",
    "\n",
    "# submission.to_csv(\"submission.csv\", index=False)"
   ]
  },
  {
   "cell_type": "code",
   "execution_count": 32,
   "id": "790968bd",
   "metadata": {
    "execution": {
     "iopub.execute_input": "2025-07-18T15:26:46.385794Z",
     "iopub.status.busy": "2025-07-18T15:26:46.385242Z",
     "iopub.status.idle": "2025-07-18T15:26:46.389041Z",
     "shell.execute_reply": "2025-07-18T15:26:46.388244Z"
    },
    "papermill": {
     "duration": 0.014745,
     "end_time": "2025-07-18T15:26:46.390436",
     "exception": false,
     "start_time": "2025-07-18T15:26:46.375691",
     "status": "completed"
    },
    "tags": []
   },
   "outputs": [],
   "source": [
    "# high_cardinality_cols = ['log_purchaseValue', 'trafficSource.adContent', 'trafficSource.keyword', 'trafficSource.referralPath']\n",
    "# for col in high_cardinality_cols:\n",
    "#     print(f\"{col}: {'✅ Present' if col in df_reg.columns else '❌ Missing'}\")"
   ]
  },
  {
   "cell_type": "markdown",
   "id": "2fa9bf9b",
   "metadata": {
    "papermill": {
     "duration": 0.008415,
     "end_time": "2025-07-18T15:26:46.408163",
     "exception": false,
     "start_time": "2025-07-18T15:26:46.399748",
     "status": "completed"
    },
    "tags": []
   },
   "source": [
    "# Improving from 0.145 score in Phase 2"
   ]
  },
  {
   "cell_type": "code",
   "execution_count": 33,
   "id": "d268634f",
   "metadata": {
    "execution": {
     "iopub.execute_input": "2025-07-18T15:26:46.427133Z",
     "iopub.status.busy": "2025-07-18T15:26:46.426840Z",
     "iopub.status.idle": "2025-07-18T15:26:46.491438Z",
     "shell.execute_reply": "2025-07-18T15:26:46.490461Z"
    },
    "papermill": {
     "duration": 0.076208,
     "end_time": "2025-07-18T15:26:46.493086",
     "exception": false,
     "start_time": "2025-07-18T15:26:46.416878",
     "status": "completed"
    },
    "tags": []
   },
   "outputs": [],
   "source": [
    "base_models = [\n",
    "    ('xgb', XGBRegressor(n_estimators=1000, learning_rate=0.05, max_depth=7,\n",
    "                         subsample=0.8, colsample_bytree=0.8, random_state=42)),\n",
    "    \n",
    "    ('lgb', LGBMRegressor(n_estimators=1000, learning_rate=0.05, max_depth=7,\n",
    "                          subsample=0.8, colsample_bytree=0.8, random_state=42,verbose=-1 )),\n",
    "    \n",
    "    ('elastic', ElasticNet(alpha=0.1, l1_ratio=0.5, random_state=42, max_iter=100, tol=1e-2, selection=\"random\"))\n",
    "]\n",
    "numeric_cols = X.select_dtypes(include='number').columns.tolist()\n",
    "categorical_cols = X.select_dtypes(include='object').columns.tolist()\n",
    "\n",
    "preprocessor = ColumnTransformer(transformers=[\n",
    "    ('num', SimpleImputer(strategy='mean'), numeric_cols),\n",
    "    ('cat', Pipeline([\n",
    "        ('imputer', SimpleImputer(strategy='most_frequent')),\n",
    "        ('ohe', OneHotEncoder(handle_unknown='ignore'))\n",
    "    ]), categorical_cols)\n",
    "])"
   ]
  },
  {
   "cell_type": "code",
   "execution_count": 34,
   "id": "ed5ba798",
   "metadata": {
    "execution": {
     "iopub.execute_input": "2025-07-18T15:26:46.512468Z",
     "iopub.status.busy": "2025-07-18T15:26:46.511823Z",
     "iopub.status.idle": "2025-07-18T15:35:30.211640Z",
     "shell.execute_reply": "2025-07-18T15:35:30.210568Z"
    },
    "papermill": {
     "duration": 523.725922,
     "end_time": "2025-07-18T15:35:30.228060",
     "exception": false,
     "start_time": "2025-07-18T15:26:46.502138",
     "status": "completed"
    },
    "tags": []
   },
   "outputs": [
    {
     "name": "stdout",
     "output_type": "stream",
     "text": [
      "Training xgb...\n",
      "Running :  [     1      2      4 ... 116020 116021 116022]\n",
      "Running :  [     0      2      3 ... 116019 116020 116021]\n",
      "Running :  [     0      1      2 ... 116020 116021 116022]\n",
      "Running :  [     0      1      2 ... 116019 116020 116022]\n",
      "Running :  [     0      1      3 ... 116019 116021 116022]\n",
      "Training lgb...\n",
      "Running :  [     1      2      4 ... 116020 116021 116022]\n",
      "Running :  [     0      2      3 ... 116019 116020 116021]\n",
      "Running :  [     0      1      2 ... 116020 116021 116022]\n",
      "Running :  [     0      1      2 ... 116019 116020 116022]\n",
      "Running :  [     0      1      3 ... 116019 116021 116022]\n",
      "Training elastic...\n",
      "Running :  [     1      2      4 ... 116020 116021 116022]\n",
      "Running :  [     0      2      3 ... 116019 116020 116021]\n",
      "Running :  [     0      1      2 ... 116020 116021 116022]\n",
      "Running :  [     0      1      2 ... 116019 116020 116022]\n",
      "Running :  [     0      1      3 ... 116019 116021 116022]\n",
      "Meta-model R²: 0.4416498904916707\n",
      "Meta-model MAE: 24255628.530726008\n"
     ]
    }
   ],
   "source": [
    "# Generate Out-of-Fold Predictions\n",
    "# ---------------------\n",
    "warnings.filterwarnings(\"ignore\", category=UserWarning)\n",
    "kf = KFold(n_splits=5, shuffle=True, random_state=42)\n",
    "\n",
    "oof_preds = np.zeros((X.shape[0], len(base_models)))\n",
    "test_preds_all = []\n",
    "\n",
    "for model_idx, (name, model) in enumerate(base_models):\n",
    "    print(f\"Training {name}...\")\n",
    "    oof = np.zeros(X.shape[0])\n",
    "    test_fold_preds = []\n",
    "\n",
    "    for train_idx, val_idx in kf.split(X):\n",
    "        print('Running : ',train_idx)\n",
    "        X_train, X_val = X.iloc[train_idx], X.iloc[val_idx]\n",
    "        y_train, y_val = y.iloc[train_idx], y.iloc[val_idx]\n",
    "\n",
    "        X_train_proc = preprocessor.fit_transform(X_train)\n",
    "        X_val_proc = preprocessor.transform(X_val)\n",
    "\n",
    "        model.fit(X_train_proc, y_train)\n",
    "        preds_val = model.predict(X_val_proc)\n",
    "\n",
    "        oof[val_idx] = preds_val\n",
    "\n",
    "    oof_preds[:, model_idx] = oof\n",
    "\n",
    "# ---------------------\n",
    "# Meta-Model Training\n",
    "# ---------------------\n",
    "\n",
    "meta_model = Ridge(alpha=1.0)\n",
    "meta_model.fit(oof_preds, y)\n",
    "meta_oof_preds = meta_model.predict(oof_preds)\n",
    "\n",
    "print(\"Meta-model R²:\", r2_score(y, meta_oof_preds))\n",
    "print(\"Meta-model MAE:\", mean_absolute_error((y), (meta_oof_preds)))"
   ]
  },
  {
   "cell_type": "code",
   "execution_count": 35,
   "id": "266744cd",
   "metadata": {
    "execution": {
     "iopub.execute_input": "2025-07-18T15:35:30.255915Z",
     "iopub.status.busy": "2025-07-18T15:35:30.255610Z",
     "iopub.status.idle": "2025-07-18T15:37:35.241116Z",
     "shell.execute_reply": "2025-07-18T15:37:35.237450Z"
    },
    "papermill": {
     "duration": 124.999223,
     "end_time": "2025-07-18T15:37:35.243455",
     "exception": false,
     "start_time": "2025-07-18T15:35:30.244232",
     "status": "completed"
    },
    "tags": []
   },
   "outputs": [
    {
     "name": "stdout",
     "output_type": "stream",
     "text": [
      "Training xgb...\n",
      "Training lgb...\n",
      "Training elastic...\n"
     ]
    }
   ],
   "source": [
    "# Step 1: Get full base model predictions on test set\n",
    "test_stack_features = []\n",
    "test_proc = preprocessor.transform(test_df.copy()) \n",
    "# Fit all base models on full training data (preprocessed X)\n",
    "X_proc = preprocessor.transform(X)\n",
    "\n",
    "# Collect base predictions on test set\n",
    "test_meta_features = np.zeros((test_proc.shape[0], len(base_models)))\n",
    "\n",
    "for i, (name, model) in enumerate(base_models):\n",
    "    print(f\"Training {name}...\")\n",
    "    model.fit(X_proc, y)  # Refit on full training data\n",
    "    test_meta_features[:, i] = model.predict(test_proc)  # Predict on test\n",
    "\n",
    "# Final prediction from meta-model\n",
    "final_preds = meta_model.predict(test_meta_features)\n",
    "\n",
    "# Clip predictions to avoid negatives if any\n",
    "final_preds = np.clip(final_preds, 0, None)"
   ]
  },
  {
   "cell_type": "code",
   "execution_count": 36,
   "id": "419bb6ef",
   "metadata": {
    "execution": {
     "iopub.execute_input": "2025-07-18T15:37:35.278593Z",
     "iopub.status.busy": "2025-07-18T15:37:35.278224Z",
     "iopub.status.idle": "2025-07-18T15:37:35.380621Z",
     "shell.execute_reply": "2025-07-18T15:37:35.379674Z"
    },
    "papermill": {
     "duration": 0.122138,
     "end_time": "2025-07-18T15:37:35.382225",
     "exception": false,
     "start_time": "2025-07-18T15:37:35.260087",
     "status": "completed"
    },
    "tags": []
   },
   "outputs": [
    {
     "name": "stdout",
     "output_type": "stream",
     "text": [
      "✅ submission_stacked.csv created.\n"
     ]
    }
   ],
   "source": [
    "# Step 5: Submission CSV\n",
    "submission = pd.DataFrame({\n",
    "   'id': range(len(test_df)),\n",
    "    \"purchaseValue\": final_preds\n",
    "})\n",
    "\n",
    "submission.to_csv(\"submission.csv\", index=False)\n",
    "print(\"✅ submission_stacked.csv created.\")"
   ]
  },
  {
   "cell_type": "code",
   "execution_count": 37,
   "id": "d6a709f2",
   "metadata": {
    "execution": {
     "iopub.execute_input": "2025-07-18T15:37:35.402844Z",
     "iopub.status.busy": "2025-07-18T15:37:35.402528Z",
     "iopub.status.idle": "2025-07-18T15:37:35.406331Z",
     "shell.execute_reply": "2025-07-18T15:37:35.405563Z"
    },
    "papermill": {
     "duration": 0.015646,
     "end_time": "2025-07-18T15:37:35.407695",
     "exception": false,
     "start_time": "2025-07-18T15:37:35.392049",
     "status": "completed"
    },
    "tags": []
   },
   "outputs": [],
   "source": [
    " # os.remove('submission.csv')"
   ]
  }
 ],
 "metadata": {
  "kaggle": {
   "accelerator": "none",
   "dataSources": [
    {
     "databundleVersionId": 11895149,
     "sourceId": 99546,
     "sourceType": "competition"
    }
   ],
   "isGpuEnabled": false,
   "isInternetEnabled": true,
   "language": "python",
   "sourceType": "notebook"
  },
  "kernelspec": {
   "display_name": "Python 3",
   "language": "python",
   "name": "python3"
  },
  "language_info": {
   "codemirror_mode": {
    "name": "ipython",
    "version": 3
   },
   "file_extension": ".py",
   "mimetype": "text/x-python",
   "name": "python",
   "nbconvert_exporter": "python",
   "pygments_lexer": "ipython3",
   "version": "3.11.13"
  },
  "papermill": {
   "default_parameters": {},
   "duration": 672.268049,
   "end_time": "2025-07-18T15:37:36.440138",
   "environment_variables": {},
   "exception": null,
   "input_path": "__notebook__.ipynb",
   "output_path": "__notebook__.ipynb",
   "parameters": {},
   "start_time": "2025-07-18T15:26:24.172089",
   "version": "2.6.0"
  }
 },
 "nbformat": 4,
 "nbformat_minor": 5
}
