{
 "cells": [
  {
   "cell_type": "code",
   "execution_count": 1,
   "id": "a73b1dde",
   "metadata": {
    "_cell_guid": "b1076dfc-b9ad-4769-8c92-a6c4dae69d19",
    "_uuid": "8f2839f25d086af736a60e9eeb907d3b93b6e0e5",
    "execution": {
     "iopub.execute_input": "2025-07-21T10:18:32.745584Z",
     "iopub.status.busy": "2025-07-21T10:18:32.745343Z",
     "iopub.status.idle": "2025-07-21T10:18:34.180124Z",
     "shell.execute_reply": "2025-07-21T10:18:34.179155Z"
    },
    "papermill": {
     "duration": 1.443884,
     "end_time": "2025-07-21T10:18:34.181737",
     "exception": false,
     "start_time": "2025-07-21T10:18:32.737853",
     "status": "completed"
    },
    "tags": []
   },
   "outputs": [
    {
     "name": "stdout",
     "output_type": "stream",
     "text": [
      "/kaggle/input/mlp-term-2-2025-kaggle-assignment-2/sample_submission.csv\n",
      "/kaggle/input/mlp-term-2-2025-kaggle-assignment-2/train.csv\n",
      "/kaggle/input/mlp-term-2-2025-kaggle-assignment-2/test.csv\n"
     ]
    }
   ],
   "source": [
    "# This Python 3 environment comes with many helpful analytics libraries installed\n",
    "# It is defined by the kaggle/python Docker image: https://github.com/kaggle/docker-python\n",
    "# For example, here's several helpful packages to load\n",
    "\n",
    "import numpy as np # linear algebra\n",
    "import pandas as pd # data processing, CSV file I/O (e.g. pd.read_csv)\n",
    "\n",
    "# Input data files are available in the read-only \"../input/\" directory\n",
    "# For example, running this (by clicking run or pressing Shift+Enter) will list all files under the input directory\n",
    "\n",
    "import os\n",
    "for dirname, _, filenames in os.walk('/kaggle/input'):\n",
    "    for filename in filenames:\n",
    "        print(os.path.join(dirname, filename))\n",
    "\n",
    "# You can write up to 20GB to the current directory (/kaggle/working/) that gets preserved as output when you create a version using \"Save & Run All\" \n",
    "# You can also write temporary files to /kaggle/temp/, but they won't be saved outside of the current session"
   ]
  },
  {
   "cell_type": "code",
   "execution_count": 2,
   "id": "1d85f62c",
   "metadata": {
    "execution": {
     "iopub.execute_input": "2025-07-21T10:18:34.199203Z",
     "iopub.status.busy": "2025-07-21T10:18:34.198882Z",
     "iopub.status.idle": "2025-07-21T10:18:37.492960Z",
     "shell.execute_reply": "2025-07-21T10:18:37.491943Z"
    },
    "papermill": {
     "duration": 3.301952,
     "end_time": "2025-07-21T10:18:37.494526",
     "exception": false,
     "start_time": "2025-07-21T10:18:34.192574",
     "status": "completed"
    },
    "tags": []
   },
   "outputs": [
    {
     "name": "stdout",
     "output_type": "stream",
     "text": [
      "Found existing installation: scikit-learn 1.2.2\r\n",
      "Uninstalling scikit-learn-1.2.2:\r\n",
      "  Successfully uninstalled scikit-learn-1.2.2\r\n",
      "Found existing installation: imbalanced-learn 0.13.0\r\n",
      "Uninstalling imbalanced-learn-0.13.0:\r\n",
      "  Successfully uninstalled imbalanced-learn-0.13.0\r\n",
      "Note: you may need to restart the kernel to use updated packages.\n"
     ]
    }
   ],
   "source": [
    "pip uninstall scikit-learn imbalanced-learn -y\n"
   ]
  },
  {
   "cell_type": "code",
   "execution_count": 3,
   "id": "63afcb3f",
   "metadata": {
    "execution": {
     "iopub.execute_input": "2025-07-21T10:18:37.507845Z",
     "iopub.status.busy": "2025-07-21T10:18:37.507599Z",
     "iopub.status.idle": "2025-07-21T10:18:43.272700Z",
     "shell.execute_reply": "2025-07-21T10:18:43.269083Z"
    },
    "papermill": {
     "duration": 5.774664,
     "end_time": "2025-07-21T10:18:43.275522",
     "exception": false,
     "start_time": "2025-07-21T10:18:37.500858",
     "status": "completed"
    },
    "tags": []
   },
   "outputs": [
    {
     "name": "stdout",
     "output_type": "stream",
     "text": [
      "Collecting scikit-learn==1.3.2\r\n",
      "  Downloading scikit_learn-1.3.2-cp311-cp311-manylinux_2_17_x86_64.manylinux2014_x86_64.whl.metadata (11 kB)\r\n",
      "Collecting imbalanced-learn==0.11.0\r\n",
      "  Downloading imbalanced_learn-0.11.0-py3-none-any.whl.metadata (8.3 kB)\r\n",
      "Requirement already satisfied: numpy<2.0,>=1.17.3 in /usr/local/lib/python3.11/dist-packages (from scikit-learn==1.3.2) (1.26.4)\r\n",
      "Requirement already satisfied: scipy>=1.5.0 in /usr/local/lib/python3.11/dist-packages (from scikit-learn==1.3.2) (1.15.3)\r\n",
      "Requirement already satisfied: joblib>=1.1.1 in /usr/local/lib/python3.11/dist-packages (from scikit-learn==1.3.2) (1.5.1)\r\n",
      "Requirement already satisfied: threadpoolctl>=2.0.0 in /usr/local/lib/python3.11/dist-packages (from scikit-learn==1.3.2) (3.6.0)\r\n",
      "Requirement already satisfied: mkl_fft in /usr/local/lib/python3.11/dist-packages (from numpy<2.0,>=1.17.3->scikit-learn==1.3.2) (1.3.8)\r\n",
      "Requirement already satisfied: mkl_random in /usr/local/lib/python3.11/dist-packages (from numpy<2.0,>=1.17.3->scikit-learn==1.3.2) (1.2.4)\r\n",
      "Requirement already satisfied: mkl_umath in /usr/local/lib/python3.11/dist-packages (from numpy<2.0,>=1.17.3->scikit-learn==1.3.2) (0.1.1)\r\n",
      "Requirement already satisfied: mkl in /usr/local/lib/python3.11/dist-packages (from numpy<2.0,>=1.17.3->scikit-learn==1.3.2) (2025.2.0)\r\n",
      "Requirement already satisfied: tbb4py in /usr/local/lib/python3.11/dist-packages (from numpy<2.0,>=1.17.3->scikit-learn==1.3.2) (2022.2.0)\r\n",
      "Requirement already satisfied: mkl-service in /usr/local/lib/python3.11/dist-packages (from numpy<2.0,>=1.17.3->scikit-learn==1.3.2) (2.4.1)\r\n",
      "Requirement already satisfied: intel-openmp<2026,>=2024 in /usr/local/lib/python3.11/dist-packages (from mkl->numpy<2.0,>=1.17.3->scikit-learn==1.3.2) (2024.2.0)\r\n",
      "Requirement already satisfied: tbb==2022.* in /usr/local/lib/python3.11/dist-packages (from mkl->numpy<2.0,>=1.17.3->scikit-learn==1.3.2) (2022.2.0)\r\n",
      "Requirement already satisfied: tcmlib==1.* in /usr/local/lib/python3.11/dist-packages (from tbb==2022.*->mkl->numpy<2.0,>=1.17.3->scikit-learn==1.3.2) (1.4.0)\r\n",
      "Requirement already satisfied: intel-cmplr-lib-rt in /usr/local/lib/python3.11/dist-packages (from mkl_umath->numpy<2.0,>=1.17.3->scikit-learn==1.3.2) (2024.2.0)\r\n",
      "Requirement already satisfied: intel-cmplr-lib-ur==2024.2.0 in /usr/local/lib/python3.11/dist-packages (from intel-openmp<2026,>=2024->mkl->numpy<2.0,>=1.17.3->scikit-learn==1.3.2) (2024.2.0)\r\n",
      "Downloading scikit_learn-1.3.2-cp311-cp311-manylinux_2_17_x86_64.manylinux2014_x86_64.whl (10.9 MB)\r\n",
      "\u001b[2K   \u001b[90m━━━━━━━━━━━━━━━━━━━━━━━━━━━━━━━━━━━━━━━━\u001b[0m \u001b[32m10.9/10.9 MB\u001b[0m \u001b[31m94.4 MB/s\u001b[0m eta \u001b[36m0:00:00\u001b[0m\r\n",
      "\u001b[?25hDownloading imbalanced_learn-0.11.0-py3-none-any.whl (235 kB)\r\n",
      "\u001b[2K   \u001b[90m━━━━━━━━━━━━━━━━━━━━━━━━━━━━━━━━━━━━━━━━\u001b[0m \u001b[32m235.6/235.6 kB\u001b[0m \u001b[31m13.4 MB/s\u001b[0m eta \u001b[36m0:00:00\u001b[0m\r\n",
      "\u001b[?25hInstalling collected packages: scikit-learn, imbalanced-learn\r\n",
      "\u001b[31mERROR: pip's dependency resolver does not currently take into account all the packages that are installed. This behaviour is the source of the following dependency conflicts.\r\n",
      "cesium 0.12.4 requires numpy<3.0,>=2.0, but you have numpy 1.26.4 which is incompatible.\u001b[0m\u001b[31m\r\n",
      "\u001b[0mSuccessfully installed imbalanced-learn-0.11.0 scikit-learn-1.3.2\r\n"
     ]
    }
   ],
   "source": [
    "!pip install -U scikit-learn==1.3.2 imbalanced-learn==0.11.0\n",
    "\n"
   ]
  },
  {
   "cell_type": "code",
   "execution_count": 4,
   "id": "9c3965e2",
   "metadata": {
    "execution": {
     "iopub.execute_input": "2025-07-21T10:18:43.294132Z",
     "iopub.status.busy": "2025-07-21T10:18:43.293857Z",
     "iopub.status.idle": "2025-07-21T10:18:57.209744Z",
     "shell.execute_reply": "2025-07-21T10:18:57.208859Z"
    },
    "papermill": {
     "duration": 13.924829,
     "end_time": "2025-07-21T10:18:57.211035",
     "exception": false,
     "start_time": "2025-07-21T10:18:43.286206",
     "status": "completed"
    },
    "tags": []
   },
   "outputs": [
    {
     "name": "stdout",
     "output_type": "stream",
     "text": [
      "Requirement already satisfied: xgboost in /usr/local/lib/python3.11/dist-packages (2.0.3)\r\n",
      "Collecting xgboost\r\n",
      "  Downloading xgboost-3.0.2-py3-none-manylinux_2_28_x86_64.whl.metadata (2.1 kB)\r\n",
      "Requirement already satisfied: lightgbm in /usr/local/lib/python3.11/dist-packages (4.5.0)\r\n",
      "Collecting lightgbm\r\n",
      "  Downloading lightgbm-4.6.0-py3-none-manylinux_2_28_x86_64.whl.metadata (17 kB)\r\n",
      "Requirement already satisfied: numpy in /usr/local/lib/python3.11/dist-packages (from xgboost) (1.26.4)\r\n",
      "Requirement already satisfied: nvidia-nccl-cu12 in /usr/local/lib/python3.11/dist-packages (from xgboost) (2.21.5)\r\n",
      "Requirement already satisfied: scipy in /usr/local/lib/python3.11/dist-packages (from xgboost) (1.15.3)\r\n",
      "Requirement already satisfied: mkl_fft in /usr/local/lib/python3.11/dist-packages (from numpy->xgboost) (1.3.8)\r\n",
      "Requirement already satisfied: mkl_random in /usr/local/lib/python3.11/dist-packages (from numpy->xgboost) (1.2.4)\r\n",
      "Requirement already satisfied: mkl_umath in /usr/local/lib/python3.11/dist-packages (from numpy->xgboost) (0.1.1)\r\n",
      "Requirement already satisfied: mkl in /usr/local/lib/python3.11/dist-packages (from numpy->xgboost) (2025.2.0)\r\n",
      "Requirement already satisfied: tbb4py in /usr/local/lib/python3.11/dist-packages (from numpy->xgboost) (2022.2.0)\r\n",
      "Requirement already satisfied: mkl-service in /usr/local/lib/python3.11/dist-packages (from numpy->xgboost) (2.4.1)\r\n",
      "Requirement already satisfied: intel-openmp<2026,>=2024 in /usr/local/lib/python3.11/dist-packages (from mkl->numpy->xgboost) (2024.2.0)\r\n",
      "Requirement already satisfied: tbb==2022.* in /usr/local/lib/python3.11/dist-packages (from mkl->numpy->xgboost) (2022.2.0)\r\n",
      "Requirement already satisfied: tcmlib==1.* in /usr/local/lib/python3.11/dist-packages (from tbb==2022.*->mkl->numpy->xgboost) (1.4.0)\r\n",
      "Requirement already satisfied: intel-cmplr-lib-rt in /usr/local/lib/python3.11/dist-packages (from mkl_umath->numpy->xgboost) (2024.2.0)\r\n",
      "Requirement already satisfied: intel-cmplr-lib-ur==2024.2.0 in /usr/local/lib/python3.11/dist-packages (from intel-openmp<2026,>=2024->mkl->numpy->xgboost) (2024.2.0)\r\n",
      "Downloading xgboost-3.0.2-py3-none-manylinux_2_28_x86_64.whl (253.9 MB)\r\n",
      "\u001b[2K   \u001b[90m━━━━━━━━━━━━━━━━━━━━━━━━━━━━━━━━━━━━━━━━\u001b[0m \u001b[32m253.9/253.9 MB\u001b[0m \u001b[31m6.7 MB/s\u001b[0m eta \u001b[36m0:00:00\u001b[0m\r\n",
      "\u001b[?25hDownloading lightgbm-4.6.0-py3-none-manylinux_2_28_x86_64.whl (3.6 MB)\r\n",
      "\u001b[2K   \u001b[90m━━━━━━━━━━━━━━━━━━━━━━━━━━━━━━━━━━━━━━━━\u001b[0m \u001b[32m3.6/3.6 MB\u001b[0m \u001b[31m72.5 MB/s\u001b[0m eta \u001b[36m0:00:00\u001b[0m\r\n",
      "\u001b[?25hInstalling collected packages: xgboost, lightgbm\r\n",
      "  Attempting uninstall: xgboost\r\n",
      "    Found existing installation: xgboost 2.0.3\r\n",
      "    Uninstalling xgboost-2.0.3:\r\n",
      "      Successfully uninstalled xgboost-2.0.3\r\n",
      "  Attempting uninstall: lightgbm\r\n",
      "    Found existing installation: lightgbm 4.5.0\r\n",
      "    Uninstalling lightgbm-4.5.0:\r\n",
      "      Successfully uninstalled lightgbm-4.5.0\r\n",
      "Successfully installed lightgbm-4.6.0 xgboost-3.0.2\r\n",
      "Note: you may need to restart the kernel to use updated packages.\n"
     ]
    }
   ],
   "source": [
    "pip install xgboost lightgbm --upgrade\n"
   ]
  },
  {
   "cell_type": "code",
   "execution_count": 5,
   "id": "bd3884d0",
   "metadata": {
    "execution": {
     "iopub.execute_input": "2025-07-21T10:18:57.232773Z",
     "iopub.status.busy": "2025-07-21T10:18:57.232531Z",
     "iopub.status.idle": "2025-07-21T10:18:57.236080Z",
     "shell.execute_reply": "2025-07-21T10:18:57.235551Z"
    },
    "papermill": {
     "duration": 0.016057,
     "end_time": "2025-07-21T10:18:57.237061",
     "exception": false,
     "start_time": "2025-07-21T10:18:57.221004",
     "status": "completed"
    },
    "tags": []
   },
   "outputs": [],
   "source": [
    "import os\n",
    "#os.remove(\"submission.csv\")"
   ]
  },
  {
   "cell_type": "code",
   "execution_count": 6,
   "id": "559a6409",
   "metadata": {
    "execution": {
     "iopub.execute_input": "2025-07-21T10:18:57.256766Z",
     "iopub.status.busy": "2025-07-21T10:18:57.256366Z",
     "iopub.status.idle": "2025-07-21T10:19:03.074701Z",
     "shell.execute_reply": "2025-07-21T10:19:03.074068Z"
    },
    "papermill": {
     "duration": 5.82991,
     "end_time": "2025-07-21T10:19:03.076156",
     "exception": false,
     "start_time": "2025-07-21T10:18:57.246246",
     "status": "completed"
    },
    "tags": []
   },
   "outputs": [],
   "source": [
    "# Importing necessary libraries for data manipulation, visualization, model training, and evaluation\n",
    "import pandas as pd\n",
    "import numpy as np\n",
    "import seaborn as sns\n",
    "import matplotlib.pyplot as plt\n",
    "\n",
    "# Scikit-learn modules for preprocessing, model training, and evaluation\n",
    "from sklearn.model_selection import train_test_split, RandomizedSearchCV\n",
    "from sklearn.preprocessing import OrdinalEncoder, StandardScaler\n",
    "from sklearn.metrics import accuracy_score, f1_score\n",
    "from sklearn.impute import SimpleImputer\n",
    "\n",
    "# Scikit-learn modules for preprocessing, model training, and evaluation\n",
    "from imblearn.combine import SMOTETomek\n",
    "\n",
    "# ML models\n",
    "from sklearn.linear_model import LogisticRegression\n",
    "from sklearn.naive_bayes import GaussianNB\n",
    "from sklearn.neighbors import KNeighborsClassifier\n",
    "from sklearn.tree import DecisionTreeClassifier\n",
    "from sklearn.ensemble import RandomForestClassifier, GradientBoostingClassifier, VotingClassifier\n",
    "from xgboost import XGBClassifier\n",
    "from lightgbm import LGBMClassifier\n",
    "from catboost import CatBoostClassifier\n",
    "\n",
    "import warnings\n",
    "import os\n",
    "warnings.filterwarnings(\"ignore\")"
   ]
  },
  {
   "cell_type": "code",
   "execution_count": 7,
   "id": "7698f5a6",
   "metadata": {
    "execution": {
     "iopub.execute_input": "2025-07-21T10:19:03.098746Z",
     "iopub.status.busy": "2025-07-21T10:19:03.097757Z",
     "iopub.status.idle": "2025-07-21T10:19:03.350506Z",
     "shell.execute_reply": "2025-07-21T10:19:03.349820Z"
    },
    "papermill": {
     "duration": 0.265559,
     "end_time": "2025-07-21T10:19:03.352059",
     "exception": false,
     "start_time": "2025-07-21T10:19:03.086500",
     "status": "completed"
    },
    "tags": []
   },
   "outputs": [],
   "source": [
    "# # Loading training and testing data\n",
    "train_df = pd.read_csv(\"/kaggle/input/mlp-term-2-2025-kaggle-assignment-2/train.csv\")\n",
    "test_df = pd.read_csv(\"/kaggle/input/mlp-term-2-2025-kaggle-assignment-2/test.csv\")\n"
   ]
  },
  {
   "cell_type": "markdown",
   "id": "ddb90746",
   "metadata": {
    "papermill": {
     "duration": 0.010408,
     "end_time": "2025-07-21T10:19:03.373584",
     "exception": false,
     "start_time": "2025-07-21T10:19:03.363176",
     "status": "completed"
    },
    "tags": []
   },
   "source": [
    "# Identifying datatypes"
   ]
  },
  {
   "cell_type": "markdown",
   "id": "6a5cb105",
   "metadata": {
    "papermill": {
     "duration": 0.01036,
     "end_time": "2025-07-21T10:19:03.394290",
     "exception": false,
     "start_time": "2025-07-21T10:19:03.383930",
     "status": "completed"
    },
    "tags": []
   },
   "source": [
    "\n",
    "The data types of the different columns are identified and explicitly stated in the notebook"
   ]
  },
  {
   "cell_type": "code",
   "execution_count": 8,
   "id": "c65ef33e",
   "metadata": {
    "execution": {
     "iopub.execute_input": "2025-07-21T10:19:03.415368Z",
     "iopub.status.busy": "2025-07-21T10:19:03.415063Z",
     "iopub.status.idle": "2025-07-21T10:19:03.425068Z",
     "shell.execute_reply": "2025-07-21T10:19:03.424486Z"
    },
    "papermill": {
     "duration": 0.021985,
     "end_time": "2025-07-21T10:19:03.426143",
     "exception": false,
     "start_time": "2025-07-21T10:19:03.404158",
     "status": "completed"
    },
    "tags": []
   },
   "outputs": [
    {
     "data": {
      "text/plain": [
       "id                    int64\n",
       "customer_id           int64\n",
       "last_name            object\n",
       "credit_score        float64\n",
       "country              object\n",
       "gender               object\n",
       "age                 float64\n",
       "tenure                int64\n",
       "acc_balance         float64\n",
       "prod_count          float64\n",
       "has_card            float64\n",
       "is_active           float64\n",
       "estimated_salary    float64\n",
       "exit_status           int64\n",
       "dtype: object"
      ]
     },
     "execution_count": 8,
     "metadata": {},
     "output_type": "execute_result"
    }
   ],
   "source": [
    "# Display data types\n",
    "train_df.dtypes\n"
   ]
  },
  {
   "cell_type": "markdown",
   "id": "a69ccd9b",
   "metadata": {
    "papermill": {
     "duration": 0.009164,
     "end_time": "2025-07-21T10:19:03.444653",
     "exception": false,
     "start_time": "2025-07-21T10:19:03.435489",
     "status": "completed"
    },
    "tags": []
   },
   "source": [
    "#  Descriptive statistics"
   ]
  },
  {
   "cell_type": "markdown",
   "id": "fc530f9b",
   "metadata": {
    "papermill": {
     "duration": 0.009117,
     "end_time": "2025-07-21T10:19:03.462924",
     "exception": false,
     "start_time": "2025-07-21T10:19:03.453807",
     "status": "completed"
    },
    "tags": []
   },
   "source": [
    "Details such as min value, max value, mean and median for each numerical column is presented"
   ]
  },
  {
   "cell_type": "code",
   "execution_count": 9,
   "id": "c16fb91a",
   "metadata": {
    "execution": {
     "iopub.execute_input": "2025-07-21T10:19:03.482755Z",
     "iopub.status.busy": "2025-07-21T10:19:03.482472Z",
     "iopub.status.idle": "2025-07-21T10:19:03.559497Z",
     "shell.execute_reply": "2025-07-21T10:19:03.558760Z"
    },
    "papermill": {
     "duration": 0.088459,
     "end_time": "2025-07-21T10:19:03.560691",
     "exception": false,
     "start_time": "2025-07-21T10:19:03.472232",
     "status": "completed"
    },
    "tags": []
   },
   "outputs": [
    {
     "data": {
      "text/html": [
       "<div>\n",
       "<style scoped>\n",
       "    .dataframe tbody tr th:only-of-type {\n",
       "        vertical-align: middle;\n",
       "    }\n",
       "\n",
       "    .dataframe tbody tr th {\n",
       "        vertical-align: top;\n",
       "    }\n",
       "\n",
       "    .dataframe thead th {\n",
       "        text-align: right;\n",
       "    }\n",
       "</style>\n",
       "<table border=\"1\" class=\"dataframe\">\n",
       "  <thead>\n",
       "    <tr style=\"text-align: right;\">\n",
       "      <th></th>\n",
       "      <th>id</th>\n",
       "      <th>customer_id</th>\n",
       "      <th>credit_score</th>\n",
       "      <th>age</th>\n",
       "      <th>tenure</th>\n",
       "      <th>acc_balance</th>\n",
       "      <th>prod_count</th>\n",
       "      <th>has_card</th>\n",
       "      <th>is_active</th>\n",
       "      <th>estimated_salary</th>\n",
       "      <th>exit_status</th>\n",
       "    </tr>\n",
       "  </thead>\n",
       "  <tbody>\n",
       "    <tr>\n",
       "      <th>count</th>\n",
       "      <td>90000.000000</td>\n",
       "      <td>9.000000e+04</td>\n",
       "      <td>80444.000000</td>\n",
       "      <td>90000.000000</td>\n",
       "      <td>90000.000000</td>\n",
       "      <td>82743.000000</td>\n",
       "      <td>85137.000000</td>\n",
       "      <td>90000.000000</td>\n",
       "      <td>90000.000000</td>\n",
       "      <td>90000.000000</td>\n",
       "      <td>90000.000000</td>\n",
       "    </tr>\n",
       "    <tr>\n",
       "      <th>mean</th>\n",
       "      <td>44999.500000</td>\n",
       "      <td>1.569209e+07</td>\n",
       "      <td>656.497054</td>\n",
       "      <td>38.119533</td>\n",
       "      <td>5.017022</td>\n",
       "      <td>55456.732147</td>\n",
       "      <td>1.552932</td>\n",
       "      <td>0.754289</td>\n",
       "      <td>0.497178</td>\n",
       "      <td>112394.659679</td>\n",
       "      <td>0.211600</td>\n",
       "    </tr>\n",
       "    <tr>\n",
       "      <th>std</th>\n",
       "      <td>25980.906451</td>\n",
       "      <td>7.129796e+04</td>\n",
       "      <td>80.016856</td>\n",
       "      <td>8.855203</td>\n",
       "      <td>2.804813</td>\n",
       "      <td>62788.474236</td>\n",
       "      <td>0.548011</td>\n",
       "      <td>0.430510</td>\n",
       "      <td>0.499995</td>\n",
       "      <td>50360.440702</td>\n",
       "      <td>0.408445</td>\n",
       "    </tr>\n",
       "    <tr>\n",
       "      <th>min</th>\n",
       "      <td>0.000000</td>\n",
       "      <td>1.556570e+07</td>\n",
       "      <td>350.000000</td>\n",
       "      <td>18.000000</td>\n",
       "      <td>0.000000</td>\n",
       "      <td>0.000000</td>\n",
       "      <td>1.000000</td>\n",
       "      <td>0.000000</td>\n",
       "      <td>0.000000</td>\n",
       "      <td>11.580000</td>\n",
       "      <td>0.000000</td>\n",
       "    </tr>\n",
       "    <tr>\n",
       "      <th>25%</th>\n",
       "      <td>22499.750000</td>\n",
       "      <td>1.563361e+07</td>\n",
       "      <td>597.000000</td>\n",
       "      <td>32.000000</td>\n",
       "      <td>3.000000</td>\n",
       "      <td>0.000000</td>\n",
       "      <td>1.000000</td>\n",
       "      <td>1.000000</td>\n",
       "      <td>0.000000</td>\n",
       "      <td>74430.360000</td>\n",
       "      <td>0.000000</td>\n",
       "    </tr>\n",
       "    <tr>\n",
       "      <th>50%</th>\n",
       "      <td>44999.500000</td>\n",
       "      <td>1.569016e+07</td>\n",
       "      <td>659.000000</td>\n",
       "      <td>37.000000</td>\n",
       "      <td>5.000000</td>\n",
       "      <td>0.000000</td>\n",
       "      <td>2.000000</td>\n",
       "      <td>1.000000</td>\n",
       "      <td>0.000000</td>\n",
       "      <td>117505.070000</td>\n",
       "      <td>0.000000</td>\n",
       "    </tr>\n",
       "    <tr>\n",
       "      <th>75%</th>\n",
       "      <td>67499.250000</td>\n",
       "      <td>1.575674e+07</td>\n",
       "      <td>710.000000</td>\n",
       "      <td>42.000000</td>\n",
       "      <td>7.000000</td>\n",
       "      <td>119825.750000</td>\n",
       "      <td>2.000000</td>\n",
       "      <td>1.000000</td>\n",
       "      <td>1.000000</td>\n",
       "      <td>154874.787500</td>\n",
       "      <td>0.000000</td>\n",
       "    </tr>\n",
       "    <tr>\n",
       "      <th>max</th>\n",
       "      <td>89999.000000</td>\n",
       "      <td>1.581569e+07</td>\n",
       "      <td>850.000000</td>\n",
       "      <td>92.000000</td>\n",
       "      <td>10.000000</td>\n",
       "      <td>250898.090000</td>\n",
       "      <td>4.000000</td>\n",
       "      <td>1.000000</td>\n",
       "      <td>1.000000</td>\n",
       "      <td>199992.480000</td>\n",
       "      <td>1.000000</td>\n",
       "    </tr>\n",
       "  </tbody>\n",
       "</table>\n",
       "</div>"
      ],
      "text/plain": [
       "                 id   customer_id  credit_score           age        tenure  \\\n",
       "count  90000.000000  9.000000e+04  80444.000000  90000.000000  90000.000000   \n",
       "mean   44999.500000  1.569209e+07    656.497054     38.119533      5.017022   \n",
       "std    25980.906451  7.129796e+04     80.016856      8.855203      2.804813   \n",
       "min        0.000000  1.556570e+07    350.000000     18.000000      0.000000   \n",
       "25%    22499.750000  1.563361e+07    597.000000     32.000000      3.000000   \n",
       "50%    44999.500000  1.569016e+07    659.000000     37.000000      5.000000   \n",
       "75%    67499.250000  1.575674e+07    710.000000     42.000000      7.000000   \n",
       "max    89999.000000  1.581569e+07    850.000000     92.000000     10.000000   \n",
       "\n",
       "         acc_balance    prod_count      has_card     is_active  \\\n",
       "count   82743.000000  85137.000000  90000.000000  90000.000000   \n",
       "mean    55456.732147      1.552932      0.754289      0.497178   \n",
       "std     62788.474236      0.548011      0.430510      0.499995   \n",
       "min         0.000000      1.000000      0.000000      0.000000   \n",
       "25%         0.000000      1.000000      1.000000      0.000000   \n",
       "50%         0.000000      2.000000      1.000000      0.000000   \n",
       "75%    119825.750000      2.000000      1.000000      1.000000   \n",
       "max    250898.090000      4.000000      1.000000      1.000000   \n",
       "\n",
       "       estimated_salary   exit_status  \n",
       "count      90000.000000  90000.000000  \n",
       "mean      112394.659679      0.211600  \n",
       "std        50360.440702      0.408445  \n",
       "min           11.580000      0.000000  \n",
       "25%        74430.360000      0.000000  \n",
       "50%       117505.070000      0.000000  \n",
       "75%       154874.787500      0.000000  \n",
       "max       199992.480000      1.000000  "
      ]
     },
     "execution_count": 9,
     "metadata": {},
     "output_type": "execute_result"
    }
   ],
   "source": [
    "# Descriptive statistics\n",
    "train_df.describe()\n"
   ]
  },
  {
   "cell_type": "code",
   "execution_count": 10,
   "id": "f5bc6a85",
   "metadata": {
    "execution": {
     "iopub.execute_input": "2025-07-21T10:19:03.581942Z",
     "iopub.status.busy": "2025-07-21T10:19:03.581380Z",
     "iopub.status.idle": "2025-07-21T10:19:03.595079Z",
     "shell.execute_reply": "2025-07-21T10:19:03.594169Z"
    },
    "papermill": {
     "duration": 0.025683,
     "end_time": "2025-07-21T10:19:03.596423",
     "exception": false,
     "start_time": "2025-07-21T10:19:03.570740",
     "status": "completed"
    },
    "tags": []
   },
   "outputs": [],
   "source": [
    "# Drop ID columns\n",
    "test_ids = test_df['id']\n",
    "train_df.drop(columns=['customer_id'], inplace=True)\n",
    "test_df.drop(columns=['customer_id'], inplace=True)\n"
   ]
  },
  {
   "cell_type": "code",
   "execution_count": 11,
   "id": "6747e123",
   "metadata": {
    "execution": {
     "iopub.execute_input": "2025-07-21T10:19:03.617255Z",
     "iopub.status.busy": "2025-07-21T10:19:03.616588Z",
     "iopub.status.idle": "2025-07-21T10:19:03.664787Z",
     "shell.execute_reply": "2025-07-21T10:19:03.664166Z"
    },
    "papermill": {
     "duration": 0.059853,
     "end_time": "2025-07-21T10:19:03.666133",
     "exception": false,
     "start_time": "2025-07-21T10:19:03.606280",
     "status": "completed"
    },
    "tags": []
   },
   "outputs": [],
   "source": [
    "# Drop Duplicates\n",
    "train_df.drop_duplicates(inplace=True)"
   ]
  },
  {
   "cell_type": "markdown",
   "id": "6d458bb0",
   "metadata": {
    "papermill": {
     "duration": 0.009706,
     "end_time": "2025-07-21T10:19:03.735265",
     "exception": false,
     "start_time": "2025-07-21T10:19:03.725559",
     "status": "completed"
    },
    "tags": []
   },
   "source": [
    "# Identifying missing values"
   ]
  },
  {
   "cell_type": "code",
   "execution_count": 12,
   "id": "34a10087",
   "metadata": {
    "execution": {
     "iopub.execute_input": "2025-07-21T10:19:03.756563Z",
     "iopub.status.busy": "2025-07-21T10:19:03.755830Z",
     "iopub.status.idle": "2025-07-21T10:19:03.782285Z",
     "shell.execute_reply": "2025-07-21T10:19:03.781298Z"
    },
    "papermill": {
     "duration": 0.038486,
     "end_time": "2025-07-21T10:19:03.783566",
     "exception": false,
     "start_time": "2025-07-21T10:19:03.745080",
     "status": "completed"
    },
    "tags": []
   },
   "outputs": [
    {
     "name": "stdout",
     "output_type": "stream",
     "text": [
      "Missing Values in Train\n",
      "id                     0\n",
      "last_name              0\n",
      "credit_score        9556\n",
      "country             6021\n",
      "gender                 0\n",
      "age                    0\n",
      "tenure                 0\n",
      "acc_balance         7257\n",
      "prod_count          4863\n",
      "has_card               0\n",
      "is_active              0\n",
      "estimated_salary       0\n",
      "exit_status            0\n",
      "dtype: int64\n",
      "\n",
      "\n",
      " Missing Values in Test\n",
      "id                     0\n",
      "last_name              0\n",
      "credit_score        3185\n",
      "country             4606\n",
      "gender                 0\n",
      "age                    0\n",
      "tenure                 0\n",
      "acc_balance         5251\n",
      "prod_count          1717\n",
      "has_card               0\n",
      "is_active              0\n",
      "estimated_salary       0\n",
      "dtype: int64\n"
     ]
    }
   ],
   "source": [
    "print(\"Missing Values in Train\")\n",
    "print(train_df.isnull().sum())\n",
    "print(\"\\n\\n Missing Values in Test\")\n",
    "print(test_df.isnull().sum())\n"
   ]
  },
  {
   "cell_type": "markdown",
   "id": "9c973f57",
   "metadata": {
    "papermill": {
     "duration": 0.011957,
     "end_time": "2025-07-21T10:19:03.806618",
     "exception": false,
     "start_time": "2025-07-21T10:19:03.794661",
     "status": "completed"
    },
    "tags": []
   },
   "source": [
    "# Encodings"
   ]
  },
  {
   "cell_type": "markdown",
   "id": "d1190825",
   "metadata": {
    "papermill": {
     "duration": 0.010201,
     "end_time": "2025-07-21T10:19:03.827891",
     "exception": false,
     "start_time": "2025-07-21T10:19:03.817690",
     "status": "completed"
    },
    "tags": []
   },
   "source": [
    " Purpose\n",
    "To convert categorical string values into numeric form, because:\n",
    "\n",
    "Most ML models (e.g., Logistic Regression, Tree-based models) do not handle strings directly.\n"
   ]
  },
  {
   "cell_type": "code",
   "execution_count": 13,
   "id": "949aa5b5",
   "metadata": {
    "execution": {
     "iopub.execute_input": "2025-07-21T10:19:03.850698Z",
     "iopub.status.busy": "2025-07-21T10:19:03.850402Z",
     "iopub.status.idle": "2025-07-21T10:19:03.947413Z",
     "shell.execute_reply": "2025-07-21T10:19:03.946726Z"
    },
    "papermill": {
     "duration": 0.110319,
     "end_time": "2025-07-21T10:19:03.948959",
     "exception": false,
     "start_time": "2025-07-21T10:19:03.838640",
     "status": "completed"
    },
    "tags": []
   },
   "outputs": [],
   "source": [
    "# Label Encoding\n",
    "categorical_cols = train_df.select_dtypes(include='object').columns.tolist()\n",
    "ordinal_encoder = OrdinalEncoder(handle_unknown='use_encoded_value', unknown_value=-1)\n",
    "train_df[categorical_cols] = ordinal_encoder.fit_transform(train_df[categorical_cols])\n",
    "test_df[categorical_cols] = ordinal_encoder.transform(test_df[categorical_cols])\n"
   ]
  },
  {
   "cell_type": "code",
   "execution_count": 14,
   "id": "a7c0a174",
   "metadata": {
    "execution": {
     "iopub.execute_input": "2025-07-21T10:19:03.971210Z",
     "iopub.status.busy": "2025-07-21T10:19:03.970935Z",
     "iopub.status.idle": "2025-07-21T10:19:03.977640Z",
     "shell.execute_reply": "2025-07-21T10:19:03.977050Z"
    },
    "papermill": {
     "duration": 0.018586,
     "end_time": "2025-07-21T10:19:03.978822",
     "exception": false,
     "start_time": "2025-07-21T10:19:03.960236",
     "status": "completed"
    },
    "tags": []
   },
   "outputs": [],
   "source": [
    "# Split features and target\n",
    "X = train_df.drop(columns='exit_status')\n",
    "y = train_df['exit_status']"
   ]
  },
  {
   "cell_type": "markdown",
   "id": "9813902d",
   "metadata": {
    "papermill": {
     "duration": 0.01,
     "end_time": "2025-07-21T10:19:03.998982",
     "exception": false,
     "start_time": "2025-07-21T10:19:03.988982",
     "status": "completed"
    },
    "tags": []
   },
   "source": [
    "# **Visualization 1**"
   ]
  },
  {
   "cell_type": "markdown",
   "id": "5c3d63f8",
   "metadata": {
    "papermill": {
     "duration": 0.009577,
     "end_time": "2025-07-21T10:19:04.018308",
     "exception": false,
     "start_time": "2025-07-21T10:19:04.008731",
     "status": "completed"
    },
    "tags": []
   },
   "source": [
    "Purpose:\n",
    "To check if the dataset is imbalanced — an essential diagnostic before applying any sampling method like SMOTE or SMOTETomek.\n",
    "\n",
    "Insight:\n",
    "If one class (e.g., exit_status = 1) appears far less frequently than the other, it will bias most ML models toward predicting the majority class. This visualization justifies the need for resampling"
   ]
  },
  {
   "cell_type": "code",
   "execution_count": 15,
   "id": "8b0f30e1",
   "metadata": {
    "execution": {
     "iopub.execute_input": "2025-07-21T10:19:04.038688Z",
     "iopub.status.busy": "2025-07-21T10:19:04.038408Z",
     "iopub.status.idle": "2025-07-21T10:19:04.286538Z",
     "shell.execute_reply": "2025-07-21T10:19:04.284954Z"
    },
    "papermill": {
     "duration": 0.260181,
     "end_time": "2025-07-21T10:19:04.288035",
     "exception": false,
     "start_time": "2025-07-21T10:19:04.027854",
     "status": "completed"
    },
    "tags": []
   },
   "outputs": [
    {
     "data": {
      "image/png": "[encoded data removed]",
      "text/plain": [
       "<Figure size 640x480 with 1 Axes>"
      ]
     },
     "metadata": {},
     "output_type": "display_data"
    }
   ],
   "source": [
    "#  Visualization 1: Target distribution before SMOTE\n",
    "sns.countplot(x=y)\n",
    "plt.title(\"Class Distribution Before Resampling\")\n",
    "plt.show()\n"
   ]
  },
  {
   "cell_type": "markdown",
   "id": "501ef1fa",
   "metadata": {
    "papermill": {
     "duration": 0.01075,
     "end_time": "2025-07-21T10:19:04.313220",
     "exception": false,
     "start_time": "2025-07-21T10:19:04.302470",
     "status": "completed"
    },
    "tags": []
   },
   "source": [
    "# **Outlier Handling**"
   ]
  },
  {
   "cell_type": "code",
   "execution_count": 16,
   "id": "ae566283",
   "metadata": {
    "execution": {
     "iopub.execute_input": "2025-07-21T10:19:04.347473Z",
     "iopub.status.busy": "2025-07-21T10:19:04.346029Z",
     "iopub.status.idle": "2025-07-21T10:19:04.437308Z",
     "shell.execute_reply": "2025-07-21T10:19:04.436699Z"
    },
    "papermill": {
     "duration": 0.108327,
     "end_time": "2025-07-21T10:19:04.438738",
     "exception": false,
     "start_time": "2025-07-21T10:19:04.330411",
     "status": "completed"
    },
    "tags": []
   },
   "outputs": [],
   "source": [
    "# Outlier Handling\n",
    "num_cols = X.select_dtypes(include=np.number).columns\n",
    "for col in num_cols:\n",
    "    Q1 = X[col].quantile(0.25)\n",
    "    Q3 = X[col].quantile(0.75)\n",
    "    IQR = Q3 - Q1\n",
    "    lower = Q1 - 1.5 * IQR\n",
    "    upper = Q3 + 1.5 * IQR\n",
    "    X[col] = np.clip(X[col], lower, upper)\n"
   ]
  },
  {
   "cell_type": "markdown",
   "id": "ebf4191f",
   "metadata": {
    "papermill": {
     "duration": 0.009911,
     "end_time": "2025-07-21T10:19:04.459137",
     "exception": false,
     "start_time": "2025-07-21T10:19:04.449226",
     "status": "completed"
    },
    "tags": []
   },
   "source": [
    "# **Visualization 2**"
   ]
  },
  {
   "cell_type": "markdown",
   "id": "bb0e785e",
   "metadata": {
    "papermill": {
     "duration": 0.009831,
     "end_time": "2025-07-21T10:19:04.479005",
     "exception": false,
     "start_time": "2025-07-21T10:19:04.469174",
     "status": "completed"
    },
    "tags": []
   },
   "source": [
    "Purpose:\n",
    "To explore relationships between numerical features — helps:\n",
    "\n",
    "Detect multicollinearity,\n",
    "\n",
    "Identify redundant features,\n",
    "\n",
    "Understand how strongly features correlate with the target variable (if included).\n",
    "\n",
    "Insight:\n",
    "Features with high correlation to each other might reduce model interpretability and inflate variance. The heatmap gives a good first glance at which features might be grouped, dropped, or transformed.\n",
    "\n"
   ]
  },
  {
   "cell_type": "code",
   "execution_count": 17,
   "id": "1fb4f787",
   "metadata": {
    "execution": {
     "iopub.execute_input": "2025-07-21T10:19:04.500486Z",
     "iopub.status.busy": "2025-07-21T10:19:04.499884Z",
     "iopub.status.idle": "2025-07-21T10:19:04.979067Z",
     "shell.execute_reply": "2025-07-21T10:19:04.978332Z"
    },
    "papermill": {
     "duration": 0.491835,
     "end_time": "2025-07-21T10:19:04.980725",
     "exception": false,
     "start_time": "2025-07-21T10:19:04.488890",
     "status": "completed"
    },
    "tags": []
   },
   "outputs": [
    {
     "data": {
      "image/png": "[encoded data removed]",
      "text/plain": [
       "<Figure size 1200x800 with 2 Axes>"
      ]
     },
     "metadata": {},
     "output_type": "display_data"
    }
   ],
   "source": [
    "# Visualization 2: Correlation heatmap\n",
    "plt.figure(figsize=(12, 8))\n",
    "sns.heatmap(pd.DataFrame(X, columns=train_df.columns[:-1]).corr(), annot=True, fmt=\".2f\", cmap='coolwarm')\n",
    "plt.title(\"Feature Correlation Heatmap\")\n",
    "plt.show()\n"
   ]
  },
  {
   "cell_type": "markdown",
   "id": "6894f899",
   "metadata": {
    "papermill": {
     "duration": 0.012508,
     "end_time": "2025-07-21T10:19:05.006691",
     "exception": false,
     "start_time": "2025-07-21T10:19:04.994183",
     "status": "completed"
    },
    "tags": []
   },
   "source": [
    "IMPUTATION -\n",
    "Purpose\n",
    "To fill missing values so that:\n",
    "\n",
    "The dataset remains complete (no nulls).\n",
    "\n",
    "ML models can be trained without errors (many don't accept NaNs).\n",
    "\n",
    " Insight\n",
    "strategy='mean' is appropriate when:\n",
    "\n",
    "The data is normally distributed.\n",
    "\n",
    "There are no extreme outliers (or they’ve been treated).\n",
    "\n",
    "If the data is skewed, median imputation is often better.\n",
    "\n",
    "\n",
    "SCALING - \n",
    "\n",
    "# 💡 Reason: Models like KNN, Logistic Regression, SVM are sensitive to feature scales.\n",
    "# Tree-based models don’t need this, but for uniformity, we scale everything.\n",
    "\n"
   ]
  },
  {
   "cell_type": "code",
   "execution_count": 18,
   "id": "b9d8eecf",
   "metadata": {
    "execution": {
     "iopub.execute_input": "2025-07-21T10:19:05.034169Z",
     "iopub.status.busy": "2025-07-21T10:19:05.033693Z",
     "iopub.status.idle": "2025-07-21T10:19:05.151342Z",
     "shell.execute_reply": "2025-07-21T10:19:05.150696Z"
    },
    "papermill": {
     "duration": 0.133305,
     "end_time": "2025-07-21T10:19:05.152729",
     "exception": false,
     "start_time": "2025-07-21T10:19:05.019424",
     "status": "completed"
    },
    "tags": []
   },
   "outputs": [],
   "source": [
    "# Impute + Scale\n",
    "imputer = SimpleImputer(strategy='mean')\n",
    "X_imputed = imputer.fit_transform(X)\n",
    "X_test_imputed = imputer.transform(test_df)\n",
    "\n",
    "scaler = StandardScaler()\n",
    "X_scaled = scaler.fit_transform(X_imputed)\n",
    "X_test_scaled = scaler.transform(X_test_imputed)\n"
   ]
  },
  {
   "cell_type": "code",
   "execution_count": 19,
   "id": "7b8877ab",
   "metadata": {
    "execution": {
     "iopub.execute_input": "2025-07-21T10:19:05.180371Z",
     "iopub.status.busy": "2025-07-21T10:19:05.180071Z",
     "iopub.status.idle": "2025-07-21T10:19:24.234892Z",
     "shell.execute_reply": "2025-07-21T10:19:24.234185Z"
    },
    "papermill": {
     "duration": 19.069974,
     "end_time": "2025-07-21T10:19:24.236247",
     "exception": false,
     "start_time": "2025-07-21T10:19:05.166273",
     "status": "completed"
    },
    "tags": []
   },
   "outputs": [],
   "source": [
    "# Apply SMOTETomek\n",
    "smt = SMOTETomek(random_state=42)\n",
    "X_res, y_res = smt.fit_resample(X_scaled, y)\n"
   ]
  },
  {
   "cell_type": "markdown",
   "id": "a541da8f",
   "metadata": {
    "papermill": {
     "duration": 0.012332,
     "end_time": "2025-07-21T10:19:24.262045",
     "exception": false,
     "start_time": "2025-07-21T10:19:24.249713",
     "status": "completed"
    },
    "tags": []
   },
   "source": [
    "# **Visualization 3**"
   ]
  },
  {
   "cell_type": "markdown",
   "id": "b1b35187",
   "metadata": {
    "papermill": {
     "duration": 0.014304,
     "end_time": "2025-07-21T10:19:24.288908",
     "exception": false,
     "start_time": "2025-07-21T10:19:24.274604",
     "status": "completed"
    },
    "tags": []
   },
   "source": [
    "Purpose:\n",
    "To verify that class imbalance has been corrected after resampling.\n",
    "\n",
    "Insight:\n",
    "You should now see both classes nearly equal. This confirms that the model training will be more balanced and the classifier won't overly favor the majority class anymore."
   ]
  },
  {
   "cell_type": "code",
   "execution_count": 20,
   "id": "8a60a124",
   "metadata": {
    "execution": {
     "iopub.execute_input": "2025-07-21T10:19:24.331214Z",
     "iopub.status.busy": "2025-07-21T10:19:24.330844Z",
     "iopub.status.idle": "2025-07-21T10:19:24.459458Z",
     "shell.execute_reply": "2025-07-21T10:19:24.458815Z"
    },
    "papermill": {
     "duration": 0.152787,
     "end_time": "2025-07-21T10:19:24.460688",
     "exception": false,
     "start_time": "2025-07-21T10:19:24.307901",
     "status": "completed"
    },
    "tags": []
   },
   "outputs": [
    {
     "data": {
      "image/png": "[encoded data removed]",
      "text/plain": [
       "<Figure size 640x480 with 1 Axes>"
      ]
     },
     "metadata": {},
     "output_type": "display_data"
    }
   ],
   "source": [
    "# Visualization 3: Target distribution after SMOTETomek\n",
    "sns.countplot(x=y_res)\n",
    "plt.title(\"Class Distribution After SMOTETomek\")\n",
    "plt.show()"
   ]
  },
  {
   "cell_type": "code",
   "execution_count": 21,
   "id": "938646ad",
   "metadata": {
    "execution": {
     "iopub.execute_input": "2025-07-21T10:19:24.488764Z",
     "iopub.status.busy": "2025-07-21T10:19:24.488072Z",
     "iopub.status.idle": "2025-07-21T10:19:24.544437Z",
     "shell.execute_reply": "2025-07-21T10:19:24.543852Z"
    },
    "papermill": {
     "duration": 0.071459,
     "end_time": "2025-07-21T10:19:24.545834",
     "exception": false,
     "start_time": "2025-07-21T10:19:24.474375",
     "status": "completed"
    },
    "tags": []
   },
   "outputs": [],
   "source": [
    "# Split for validation\n",
    "X_train, X_val, y_train, y_val = train_test_split(X_res, y_res, test_size=0.2, stratify=y_res, random_state=42)\n"
   ]
  },
  {
   "cell_type": "markdown",
   "id": "427d2357",
   "metadata": {
    "papermill": {
     "duration": 0.013804,
     "end_time": "2025-07-21T10:19:24.573829",
     "exception": false,
     "start_time": "2025-07-21T10:19:24.560025",
     "status": "completed"
    },
    "tags": []
   },
   "source": [
    "# **7+ model training**"
   ]
  },
  {
   "cell_type": "code",
   "execution_count": 22,
   "id": "e8e1d460",
   "metadata": {
    "execution": {
     "iopub.execute_input": "2025-07-21T10:19:24.602867Z",
     "iopub.status.busy": "2025-07-21T10:19:24.602620Z",
     "iopub.status.idle": "2025-07-21T10:20:48.775834Z",
     "shell.execute_reply": "2025-07-21T10:20:48.775175Z"
    },
    "papermill": {
     "duration": 84.189067,
     "end_time": "2025-07-21T10:20:48.777175",
     "exception": false,
     "start_time": "2025-07-21T10:19:24.588108",
     "status": "completed"
    },
    "tags": []
   },
   "outputs": [
    {
     "name": "stdout",
     "output_type": "stream",
     "text": [
      "[LightGBM] [Info] Number of positive: 56336, number of negative: 56336\n",
      "[LightGBM] [Info] Auto-choosing row-wise multi-threading, the overhead of testing was 0.002002 seconds.\n",
      "You can set `force_row_wise=true` to remove the overhead.\n",
      "And if memory is not enough, you can set `force_col_wise=true`.\n",
      "[LightGBM] [Info] Total Bins 2320\n",
      "[LightGBM] [Info] Number of data points in the train set: 112672, number of used features: 11\n",
      "[LightGBM] [Info] [binary:BoostFromScore]: pavg=0.500000 -> initscore=0.000000\n"
     ]
    }
   ],
   "source": [
    "# Model training\n",
    "models = {\n",
    "    \"Logistic Regression\": LogisticRegression(class_weight='balanced'),\n",
    "    \"Naive Bayes\": GaussianNB(),\n",
    "    \"KNN\": KNeighborsClassifier(),\n",
    "    \"Decision Tree\": DecisionTreeClassifier(class_weight='balanced'),\n",
    "    \"Random Forest\": RandomForestClassifier(class_weight='balanced'),\n",
    "    \"Gradient Boosting\": GradientBoostingClassifier(),\n",
    "    \"XGBoost\": XGBClassifier(use_label_encoder=False, eval_metric='logloss', scale_pos_weight=3),\n",
    "    \"LightGBM\": LGBMClassifier(class_weight='balanced'),\n",
    "    \"CatBoost\": CatBoostClassifier(verbose=0)\n",
    "}\n",
    "\n",
    "results = {}\n",
    "for name, model in models.items():\n",
    "    model.fit(X_train, y_train)\n",
    "    y_pred = model.predict(X_val)\n",
    "    acc = accuracy_score(y_val, y_pred)\n",
    "    f1 = f1_score(y_val, y_pred)\n",
    "    results[name] = {\"Accuracy\": acc, \"F1\": f1}\n",
    "\n"
   ]
  },
  {
   "cell_type": "code",
   "execution_count": 23,
   "id": "a2fd2a9f",
   "metadata": {
    "execution": {
     "iopub.execute_input": "2025-07-21T10:20:48.804978Z",
     "iopub.status.busy": "2025-07-21T10:20:48.804755Z",
     "iopub.status.idle": "2025-07-21T10:20:48.963308Z",
     "shell.execute_reply": "2025-07-21T10:20:48.962694Z"
    },
    "papermill": {
     "duration": 0.17333,
     "end_time": "2025-07-21T10:20:48.964535",
     "exception": false,
     "start_time": "2025-07-21T10:20:48.791205",
     "status": "completed"
    },
    "tags": []
   },
   "outputs": [
    {
     "data": {
      "image/png": "[encoded data removed]",
      "text/plain": [
       "<Figure size 1000x500 with 1 Axes>"
      ]
     },
     "metadata": {},
     "output_type": "display_data"
    }
   ],
   "source": [
    "# Visualize F1 Scores\n",
    "plt.figure(figsize=(10, 5))\n",
    "sns.barplot(x=list(results.keys()), y=[v[\"F1\"] for v in results.values()])\n",
    "plt.xticks(rotation=45)\n",
    "plt.ylabel(\"F1 Score\")\n",
    "plt.title(\"Model Performance (F1 Score)\")\n",
    "plt.show()\n"
   ]
  },
  {
   "cell_type": "markdown",
   "id": "710d2207",
   "metadata": {
    "papermill": {
     "duration": 0.013545,
     "end_time": "2025-07-21T10:20:48.992777",
     "exception": false,
     "start_time": "2025-07-21T10:20:48.979232",
     "status": "completed"
    },
    "tags": []
   },
   "source": [
    "Purpose:\n",
    "To visually compare F1 scores across models — ideal for imbalanced classification since F1 balances precision and recall.\n",
    "\n",
    "Insight:\n",
    "Makes it easy to select top-performing models for hyperparameter tuning or ensemble inclusion."
   ]
  },
  {
   "cell_type": "markdown",
   "id": "d1dd0c19",
   "metadata": {
    "papermill": {
     "duration": 0.013413,
     "end_time": "2025-07-21T10:20:49.019887",
     "exception": false,
     "start_time": "2025-07-21T10:20:49.006474",
     "status": "completed"
    },
    "tags": []
   },
   "source": [
    "# **Hyperparameter tuning for 3 models**"
   ]
  },
  {
   "cell_type": "code",
   "execution_count": 24,
   "id": "ffafb726",
   "metadata": {
    "execution": {
     "iopub.execute_input": "2025-07-21T10:20:49.047952Z",
     "iopub.status.busy": "2025-07-21T10:20:49.047733Z",
     "iopub.status.idle": "2025-07-21T10:25:56.247124Z",
     "shell.execute_reply": "2025-07-21T10:25:56.246456Z"
    },
    "papermill": {
     "duration": 307.231034,
     "end_time": "2025-07-21T10:25:56.264514",
     "exception": false,
     "start_time": "2025-07-21T10:20:49.033480",
     "status": "completed"
    },
    "tags": []
   },
   "outputs": [
    {
     "name": "stdout",
     "output_type": "stream",
     "text": [
      "[LightGBM] [Info] Number of positive: 37557, number of negative: 37557\n",
      "[LightGBM] [Info] Auto-choosing row-wise multi-threading, the overhead of testing was 0.001337 seconds.\n",
      "You can set `force_row_wise=true` to remove the overhead.\n",
      "And if memory is not enough, you can set `force_col_wise=true`.\n",
      "[LightGBM] [Info] Total Bins 2309\n",
      "[LightGBM] [Info] Number of data points in the train set: 75114, number of used features: 11\n",
      "[LightGBM] [Info] [binary:BoostFromScore]: pavg=0.500000 -> initscore=0.000000\n",
      "[LightGBM] [Info] Number of positive: 37558, number of negative: 37557\n",
      "[LightGBM] [Info] Auto-choosing row-wise multi-threading, the overhead of testing was 0.001306 seconds.\n",
      "You can set `force_row_wise=true` to remove the overhead.\n",
      "And if memory is not enough, you can set `force_col_wise=true`.\n",
      "[LightGBM] [Info] Total Bins 2305\n",
      "[LightGBM] [Info] Number of data points in the train set: 75115, number of used features: 11\n",
      "[LightGBM] [Info] [binary:BoostFromScore]: pavg=0.500007 -> initscore=0.000027\n",
      "[LightGBM] [Info] Start training from score 0.000027\n",
      "[LightGBM] [Info] Number of positive: 37557, number of negative: 37558\n",
      "[LightGBM] [Info] Auto-choosing row-wise multi-threading, the overhead of testing was 0.001290 seconds.\n",
      "You can set `force_row_wise=true` to remove the overhead.\n",
      "And if memory is not enough, you can set `force_col_wise=true`.\n",
      "[LightGBM] [Info] Total Bins 2308\n",
      "[LightGBM] [Info] Number of data points in the train set: 75115, number of used features: 11\n",
      "[LightGBM] [Info] [binary:BoostFromScore]: pavg=0.499993 -> initscore=-0.000027\n",
      "[LightGBM] [Info] Start training from score -0.000027\n",
      "[LightGBM] [Info] Number of positive: 37557, number of negative: 37557\n",
      "[LightGBM] [Info] Auto-choosing row-wise multi-threading, the overhead of testing was 0.001269 seconds.\n",
      "You can set `force_row_wise=true` to remove the overhead.\n",
      "And if memory is not enough, you can set `force_col_wise=true`.\n",
      "[LightGBM] [Info] Total Bins 2309\n",
      "[LightGBM] [Info] Number of data points in the train set: 75114, number of used features: 11\n",
      "[LightGBM] [Info] [binary:BoostFromScore]: pavg=0.500000 -> initscore=0.000000\n",
      "[LightGBM] [Info] Number of positive: 37558, number of negative: 37557\n",
      "[LightGBM] [Info] Auto-choosing row-wise multi-threading, the overhead of testing was 0.001279 seconds.\n",
      "You can set `force_row_wise=true` to remove the overhead.\n",
      "And if memory is not enough, you can set `force_col_wise=true`.\n",
      "[LightGBM] [Info] Total Bins 2305\n",
      "[LightGBM] [Info] Number of data points in the train set: 75115, number of used features: 11\n",
      "[LightGBM] [Info] [binary:BoostFromScore]: pavg=0.500007 -> initscore=0.000027\n",
      "[LightGBM] [Info] Start training from score 0.000027\n",
      "[LightGBM] [Info] Number of positive: 37557, number of negative: 37558\n",
      "[LightGBM] [Info] Auto-choosing row-wise multi-threading, the overhead of testing was 0.001373 seconds.\n",
      "You can set `force_row_wise=true` to remove the overhead.\n",
      "And if memory is not enough, you can set `force_col_wise=true`.\n",
      "[LightGBM] [Info] Total Bins 2308\n",
      "[LightGBM] [Info] Number of data points in the train set: 75115, number of used features: 11\n",
      "[LightGBM] [Info] [binary:BoostFromScore]: pavg=0.499993 -> initscore=-0.000027\n",
      "[LightGBM] [Info] Start training from score -0.000027\n",
      "[LightGBM] [Info] Number of positive: 37557, number of negative: 37557\n",
      "[LightGBM] [Info] Auto-choosing row-wise multi-threading, the overhead of testing was 0.001242 seconds.\n",
      "You can set `force_row_wise=true` to remove the overhead.\n",
      "And if memory is not enough, you can set `force_col_wise=true`.\n",
      "[LightGBM] [Info] Total Bins 2309\n",
      "[LightGBM] [Info] Number of data points in the train set: 75114, number of used features: 11\n",
      "[LightGBM] [Info] [binary:BoostFromScore]: pavg=0.500000 -> initscore=0.000000\n",
      "[LightGBM] [Info] Number of positive: 37558, number of negative: 37557\n",
      "[LightGBM] [Info] Auto-choosing row-wise multi-threading, the overhead of testing was 0.001443 seconds.\n",
      "You can set `force_row_wise=true` to remove the overhead.\n",
      "And if memory is not enough, you can set `force_col_wise=true`.\n",
      "[LightGBM] [Info] Total Bins 2305\n",
      "[LightGBM] [Info] Number of data points in the train set: 75115, number of used features: 11\n",
      "[LightGBM] [Info] [binary:BoostFromScore]: pavg=0.500007 -> initscore=0.000027\n",
      "[LightGBM] [Info] Start training from score 0.000027\n",
      "[LightGBM] [Info] Number of positive: 37557, number of negative: 37558\n",
      "[LightGBM] [Info] Auto-choosing row-wise multi-threading, the overhead of testing was 0.001359 seconds.\n",
      "You can set `force_row_wise=true` to remove the overhead.\n",
      "And if memory is not enough, you can set `force_col_wise=true`.\n",
      "[LightGBM] [Info] Total Bins 2308\n",
      "[LightGBM] [Info] Number of data points in the train set: 75115, number of used features: 11\n",
      "[LightGBM] [Info] [binary:BoostFromScore]: pavg=0.499993 -> initscore=-0.000027\n",
      "[LightGBM] [Info] Start training from score -0.000027\n",
      "[LightGBM] [Info] Number of positive: 37557, number of negative: 37557\n",
      "[LightGBM] [Info] Auto-choosing row-wise multi-threading, the overhead of testing was 0.001249 seconds.\n",
      "You can set `force_row_wise=true` to remove the overhead.\n",
      "And if memory is not enough, you can set `force_col_wise=true`.\n",
      "[LightGBM] [Info] Total Bins 2309\n",
      "[LightGBM] [Info] Number of data points in the train set: 75114, number of used features: 11\n",
      "[LightGBM] [Info] [binary:BoostFromScore]: pavg=0.500000 -> initscore=0.000000\n",
      "[LightGBM] [Info] Number of positive: 37558, number of negative: 37557\n",
      "[LightGBM] [Info] Auto-choosing row-wise multi-threading, the overhead of testing was 0.001401 seconds.\n",
      "You can set `force_row_wise=true` to remove the overhead.\n",
      "And if memory is not enough, you can set `force_col_wise=true`.\n",
      "[LightGBM] [Info] Total Bins 2305\n",
      "[LightGBM] [Info] Number of data points in the train set: 75115, number of used features: 11\n",
      "[LightGBM] [Info] [binary:BoostFromScore]: pavg=0.500007 -> initscore=0.000027\n",
      "[LightGBM] [Info] Start training from score 0.000027\n",
      "[LightGBM] [Info] Number of positive: 37557, number of negative: 37558\n",
      "[LightGBM] [Info] Auto-choosing row-wise multi-threading, the overhead of testing was 0.001265 seconds.\n",
      "You can set `force_row_wise=true` to remove the overhead.\n",
      "And if memory is not enough, you can set `force_col_wise=true`.\n",
      "[LightGBM] [Info] Total Bins 2308\n",
      "[LightGBM] [Info] Number of data points in the train set: 75115, number of used features: 11\n",
      "[LightGBM] [Info] [binary:BoostFromScore]: pavg=0.499993 -> initscore=-0.000027\n",
      "[LightGBM] [Info] Start training from score -0.000027\n",
      "[LightGBM] [Info] Number of positive: 37557, number of negative: 37557\n",
      "[LightGBM] [Info] Auto-choosing row-wise multi-threading, the overhead of testing was 0.001250 seconds.\n",
      "You can set `force_row_wise=true` to remove the overhead.\n",
      "And if memory is not enough, you can set `force_col_wise=true`.\n",
      "[LightGBM] [Info] Total Bins 2309\n",
      "[LightGBM] [Info] Number of data points in the train set: 75114, number of used features: 11\n",
      "[LightGBM] [Info] [binary:BoostFromScore]: pavg=0.500000 -> initscore=0.000000\n",
      "[LightGBM] [Info] Number of positive: 37558, number of negative: 37557\n",
      "[LightGBM] [Info] Auto-choosing row-wise multi-threading, the overhead of testing was 0.001323 seconds.\n",
      "You can set `force_row_wise=true` to remove the overhead.\n",
      "And if memory is not enough, you can set `force_col_wise=true`.\n",
      "[LightGBM] [Info] Total Bins 2305\n",
      "[LightGBM] [Info] Number of data points in the train set: 75115, number of used features: 11\n",
      "[LightGBM] [Info] [binary:BoostFromScore]: pavg=0.500007 -> initscore=0.000027\n",
      "[LightGBM] [Info] Start training from score 0.000027\n",
      "[LightGBM] [Info] Number of positive: 37557, number of negative: 37558\n",
      "[LightGBM] [Info] Auto-choosing row-wise multi-threading, the overhead of testing was 0.001413 seconds.\n",
      "You can set `force_row_wise=true` to remove the overhead.\n",
      "And if memory is not enough, you can set `force_col_wise=true`.\n",
      "[LightGBM] [Info] Total Bins 2308\n",
      "[LightGBM] [Info] Number of data points in the train set: 75115, number of used features: 11\n",
      "[LightGBM] [Info] [binary:BoostFromScore]: pavg=0.499993 -> initscore=-0.000027\n",
      "[LightGBM] [Info] Start training from score -0.000027\n",
      "[LightGBM] [Info] Number of positive: 56336, number of negative: 56336\n",
      "[LightGBM] [Info] Auto-choosing row-wise multi-threading, the overhead of testing was 0.001822 seconds.\n",
      "You can set `force_row_wise=true` to remove the overhead.\n",
      "And if memory is not enough, you can set `force_col_wise=true`.\n",
      "[LightGBM] [Info] Total Bins 2320\n",
      "[LightGBM] [Info] Number of data points in the train set: 112672, number of used features: 11\n",
      "[LightGBM] [Info] [binary:BoostFromScore]: pavg=0.500000 -> initscore=0.000000\n"
     ]
    },
    {
     "data": {
      "text/html": [
       "<style>#sk-container-id-1 {color: black;}#sk-container-id-1 pre{padding: 0;}#sk-container-id-1 div.sk-toggleable {background-color: white;}#sk-container-id-1 label.sk-toggleable__label {cursor: pointer;display: block;width: 100%;margin-bottom: 0;padding: 0.3em;box-sizing: border-box;text-align: center;}#sk-container-id-1 label.sk-toggleable__label-arrow:before {content: \"▸\";float: left;margin-right: 0.25em;color: #696969;}#sk-container-id-1 label.sk-toggleable__label-arrow:hover:before {color: black;}#sk-container-id-1 div.sk-estimator:hover label.sk-toggleable__label-arrow:before {color: black;}#sk-container-id-1 div.sk-toggleable__content {max-height: 0;max-width: 0;overflow: hidden;text-align: left;background-color: #f0f8ff;}#sk-container-id-1 div.sk-toggleable__content pre {margin: 0.2em;color: black;border-radius: 0.25em;background-color: #f0f8ff;}#sk-container-id-1 input.sk-toggleable__control:checked~div.sk-toggleable__content {max-height: 200px;max-width: 100%;overflow: auto;}#sk-container-id-1 input.sk-toggleable__control:checked~label.sk-toggleable__label-arrow:before {content: \"▾\";}#sk-container-id-1 div.sk-estimator input.sk-toggleable__control:checked~label.sk-toggleable__label {background-color: #d4ebff;}#sk-container-id-1 div.sk-label input.sk-toggleable__control:checked~label.sk-toggleable__label {background-color: #d4ebff;}#sk-container-id-1 input.sk-hidden--visually {border: 0;clip: rect(1px 1px 1px 1px);clip: rect(1px, 1px, 1px, 1px);height: 1px;margin: -1px;overflow: hidden;padding: 0;position: absolute;width: 1px;}#sk-container-id-1 div.sk-estimator {font-family: monospace;background-color: #f0f8ff;border: 1px dotted black;border-radius: 0.25em;box-sizing: border-box;margin-bottom: 0.5em;}#sk-container-id-1 div.sk-estimator:hover {background-color: #d4ebff;}#sk-container-id-1 div.sk-parallel-item::after {content: \"\";width: 100%;border-bottom: 1px solid gray;flex-grow: 1;}#sk-container-id-1 div.sk-label:hover label.sk-toggleable__label {background-color: #d4ebff;}#sk-container-id-1 div.sk-serial::before {content: \"\";position: absolute;border-left: 1px solid gray;box-sizing: border-box;top: 0;bottom: 0;left: 50%;z-index: 0;}#sk-container-id-1 div.sk-serial {display: flex;flex-direction: column;align-items: center;background-color: white;padding-right: 0.2em;padding-left: 0.2em;position: relative;}#sk-container-id-1 div.sk-item {position: relative;z-index: 1;}#sk-container-id-1 div.sk-parallel {display: flex;align-items: stretch;justify-content: center;background-color: white;position: relative;}#sk-container-id-1 div.sk-item::before, #sk-container-id-1 div.sk-parallel-item::before {content: \"\";position: absolute;border-left: 1px solid gray;box-sizing: border-box;top: 0;bottom: 0;left: 50%;z-index: -1;}#sk-container-id-1 div.sk-parallel-item {display: flex;flex-direction: column;z-index: 1;position: relative;background-color: white;}#sk-container-id-1 div.sk-parallel-item:first-child::after {align-self: flex-end;width: 50%;}#sk-container-id-1 div.sk-parallel-item:last-child::after {align-self: flex-start;width: 50%;}#sk-container-id-1 div.sk-parallel-item:only-child::after {width: 0;}#sk-container-id-1 div.sk-dashed-wrapped {border: 1px dashed gray;margin: 0 0.4em 0.5em 0.4em;box-sizing: border-box;padding-bottom: 0.4em;background-color: white;}#sk-container-id-1 div.sk-label label {font-family: monospace;font-weight: bold;display: inline-block;line-height: 1.2em;}#sk-container-id-1 div.sk-label-container {text-align: center;}#sk-container-id-1 div.sk-container {/* jupyter's `normalize.less` sets `[hidden] { display: none; }` but bootstrap.min.css set `[hidden] { display: none !important; }` so we also need the `!important` here to be able to override the default hidden behavior on the sphinx rendered scikit-learn.org. See: https://github.com/scikit-learn/scikit-learn/issues/21755 */display: inline-block !important;position: relative;}#sk-container-id-1 div.sk-text-repr-fallback {display: none;}</style><div id=\"sk-container-id-1\" class=\"sk-top-container\"><div class=\"sk-text-repr-fallback\"><pre>RandomizedSearchCV(cv=3, estimator=RandomForestClassifier(), n_iter=5,\n",
       "                   param_distributions={&#x27;max_depth&#x27;: [5, 10, 20],\n",
       "                                        &#x27;n_estimators&#x27;: [100, 200]},\n",
       "                   random_state=42, scoring=&#x27;f1&#x27;)</pre><b>In a Jupyter environment, please rerun this cell to show the HTML representation or trust the notebook. <br />On GitHub, the HTML representation is unable to render, please try loading this page with nbviewer.org.</b></div><div class=\"sk-container\" hidden><div class=\"sk-item sk-dashed-wrapped\"><div class=\"sk-label-container\"><div class=\"sk-label sk-toggleable\"><input class=\"sk-toggleable__control sk-hidden--visually\" id=\"sk-estimator-id-1\" type=\"checkbox\" ><label for=\"sk-estimator-id-1\" class=\"sk-toggleable__label sk-toggleable__label-arrow\">RandomizedSearchCV</label><div class=\"sk-toggleable__content\"><pre>RandomizedSearchCV(cv=3, estimator=RandomForestClassifier(), n_iter=5,\n",
       "                   param_distributions={&#x27;max_depth&#x27;: [5, 10, 20],\n",
       "                                        &#x27;n_estimators&#x27;: [100, 200]},\n",
       "                   random_state=42, scoring=&#x27;f1&#x27;)</pre></div></div></div><div class=\"sk-parallel\"><div class=\"sk-parallel-item\"><div class=\"sk-item\"><div class=\"sk-label-container\"><div class=\"sk-label sk-toggleable\"><input class=\"sk-toggleable__control sk-hidden--visually\" id=\"sk-estimator-id-2\" type=\"checkbox\" ><label for=\"sk-estimator-id-2\" class=\"sk-toggleable__label sk-toggleable__label-arrow\">estimator: RandomForestClassifier</label><div class=\"sk-toggleable__content\"><pre>RandomForestClassifier()</pre></div></div></div><div class=\"sk-serial\"><div class=\"sk-item\"><div class=\"sk-estimator sk-toggleable\"><input class=\"sk-toggleable__control sk-hidden--visually\" id=\"sk-estimator-id-3\" type=\"checkbox\" ><label for=\"sk-estimator-id-3\" class=\"sk-toggleable__label sk-toggleable__label-arrow\">RandomForestClassifier</label><div class=\"sk-toggleable__content\"><pre>RandomForestClassifier()</pre></div></div></div></div></div></div></div></div></div></div>"
      ],
      "text/plain": [
       "RandomizedSearchCV(cv=3, estimator=RandomForestClassifier(), n_iter=5,\n",
       "                   param_distributions={'max_depth': [5, 10, 20],\n",
       "                                        'n_estimators': [100, 200]},\n",
       "                   random_state=42, scoring='f1')"
      ]
     },
     "execution_count": 24,
     "metadata": {},
     "output_type": "execute_result"
    }
   ],
   "source": [
    "# Hyperparameter tuning for top 3 models\n",
    "xgb_params = {'n_estimators': [100, 200], 'max_depth': [3, 5], 'learning_rate': [0.01, 0.05, 0.1]}\n",
    "xgb_search = RandomizedSearchCV(XGBClassifier(use_label_encoder=False, eval_metric='logloss'), xgb_params, cv=3, scoring='f1', n_iter=5, random_state=42)\n",
    "xgb_search.fit(X_train, y_train)\n",
    "\n",
    "lgbm_params = {'n_estimators': [100, 200], 'max_depth': [-1, 10], 'learning_rate': [0.05, 0.1]}\n",
    "lgbm_search = RandomizedSearchCV(LGBMClassifier(), lgbm_params, cv=3, scoring='f1', n_iter=5, random_state=42)\n",
    "lgbm_search.fit(X_train, y_train)\n",
    "\n",
    "rf_params = {'n_estimators': [100, 200], 'max_depth': [5, 10, 20]}\n",
    "rf_search = RandomizedSearchCV(RandomForestClassifier(), rf_params, cv=3, scoring='f1', n_iter=5, random_state=42)\n",
    "rf_search.fit(X_train, y_train)\n"
   ]
  },
  {
   "cell_type": "code",
   "execution_count": 25,
   "id": "a45bff9e",
   "metadata": {
    "execution": {
     "iopub.execute_input": "2025-07-21T10:25:56.295804Z",
     "iopub.status.busy": "2025-07-21T10:25:56.295565Z",
     "iopub.status.idle": "2025-07-21T10:26:48.389303Z",
     "shell.execute_reply": "2025-07-21T10:26:48.388562Z"
    },
    "papermill": {
     "duration": 52.1253,
     "end_time": "2025-07-21T10:26:48.405099",
     "exception": false,
     "start_time": "2025-07-21T10:25:56.279799",
     "status": "completed"
    },
    "tags": []
   },
   "outputs": [
    {
     "name": "stdout",
     "output_type": "stream",
     "text": [
      "[LightGBM] [Info] Number of positive: 56336, number of negative: 56336\n",
      "[LightGBM] [Info] Auto-choosing row-wise multi-threading, the overhead of testing was 0.001771 seconds.\n",
      "You can set `force_row_wise=true` to remove the overhead.\n",
      "And if memory is not enough, you can set `force_col_wise=true`.\n",
      "[LightGBM] [Info] Total Bins 2320\n",
      "[LightGBM] [Info] Number of data points in the train set: 112672, number of used features: 11\n",
      "[LightGBM] [Info] [binary:BoostFromScore]: pavg=0.500000 -> initscore=0.000000\n",
      "Validation F1 Score: 0.9078919073901512\n"
     ]
    }
   ],
   "source": [
    "# Ensemble Voting Classifier\n",
    "voting_clf = VotingClassifier(estimators=[\n",
    "    ('xgb', xgb_search.best_estimator_),\n",
    "    ('lgbm', lgbm_search.best_estimator_),\n",
    "    ('rf', rf_search.best_estimator_)\n",
    "], voting='soft')\n",
    "\n",
    "voting_clf.fit(X_train, y_train)\n",
    "y_pred_val = voting_clf.predict(X_val)\n",
    "print(\"Validation F1 Score:\", f1_score(y_val, y_pred_val))\n"
   ]
  },
  {
   "cell_type": "code",
   "execution_count": 26,
   "id": "d06bbb29",
   "metadata": {
    "execution": {
     "iopub.execute_input": "2025-07-21T10:26:48.435427Z",
     "iopub.status.busy": "2025-07-21T10:26:48.435177Z",
     "iopub.status.idle": "2025-07-21T10:27:53.353336Z",
     "shell.execute_reply": "2025-07-21T10:27:53.352483Z"
    },
    "papermill": {
     "duration": 64.93493,
     "end_time": "2025-07-21T10:27:53.354948",
     "exception": false,
     "start_time": "2025-07-21T10:26:48.420018",
     "status": "completed"
    },
    "tags": []
   },
   "outputs": [
    {
     "name": "stdout",
     "output_type": "stream",
     "text": [
      "[LightGBM] [Info] Number of positive: 70420, number of negative: 70420\n",
      "[LightGBM] [Info] Auto-choosing row-wise multi-threading, the overhead of testing was 0.002669 seconds.\n",
      "You can set `force_row_wise=true` to remove the overhead.\n",
      "And if memory is not enough, you can set `force_col_wise=true`.\n",
      "[LightGBM] [Info] Total Bins 2328\n",
      "[LightGBM] [Info] Number of data points in the train set: 140840, number of used features: 11\n",
      "[LightGBM] [Info] [binary:BoostFromScore]: pavg=0.500000 -> initscore=0.000000\n"
     ]
    }
   ],
   "source": [
    "# Final Model on full data\n",
    "voting_clf.fit(X_res, y_res)\n",
    "final_preds = voting_clf.predict(X_test_scaled)\n"
   ]
  },
  {
   "cell_type": "code",
   "execution_count": 27,
   "id": "da23b5e1",
   "metadata": {
    "execution": {
     "iopub.execute_input": "2025-07-21T10:27:53.386705Z",
     "iopub.status.busy": "2025-07-21T10:27:53.386453Z",
     "iopub.status.idle": "2025-07-21T10:27:53.414123Z",
     "shell.execute_reply": "2025-07-21T10:27:53.413493Z"
    },
    "papermill": {
     "duration": 0.044361,
     "end_time": "2025-07-21T10:27:53.415154",
     "exception": false,
     "start_time": "2025-07-21T10:27:53.370793",
     "status": "completed"
    },
    "tags": []
   },
   "outputs": [
    {
     "name": "stdout",
     "output_type": "stream",
     "text": [
      "submission.csv created successfully.\n"
     ]
    }
   ],
   "source": [
    "# Submission\n",
    "submission = pd.DataFrame({'id': test_ids, 'exit_status': final_preds})\n",
    "submission.to_csv(\"submission.csv\", index=False)\n",
    "print(\"submission.csv created successfully.\")\n"
   ]
  },
  {
   "cell_type": "code",
   "execution_count": 28,
   "id": "024bbd9e",
   "metadata": {
    "execution": {
     "iopub.execute_input": "2025-07-21T10:27:53.446107Z",
     "iopub.status.busy": "2025-07-21T10:27:53.445901Z",
     "iopub.status.idle": "2025-07-21T10:27:53.450511Z",
     "shell.execute_reply": "2025-07-21T10:27:53.449835Z"
    },
    "papermill": {
     "duration": 0.021256,
     "end_time": "2025-07-21T10:27:53.451616",
     "exception": false,
     "start_time": "2025-07-21T10:27:53.430360",
     "status": "completed"
    },
    "tags": []
   },
   "outputs": [
    {
     "name": "stdout",
     "output_type": "stream",
     "text": [
      "Cleaned up /kaggle/working except submission.csv\n"
     ]
    }
   ],
   "source": [
    "# Clean up /kaggle/working except submission.csv\n",
    "working_dir = '/kaggle/working'\n",
    "for filename in os.listdir(working_dir):\n",
    "    file_path = os.path.join(working_dir, filename)\n",
    "    if filename != 'submission.csv' and os.path.isfile(file_path):\n",
    "        os.remove(file_path)\n",
    "print(\"Cleaned up /kaggle/working except submission.csv\")\n"
   ]
  },
  {
   "cell_type": "code",
   "execution_count": null,
   "id": "44c70da0",
   "metadata": {
    "execution": {
     "iopub.execute_input": "2025-07-21T09:22:04.612790Z",
     "iopub.status.busy": "2025-07-21T09:22:04.612584Z",
     "iopub.status.idle": "2025-07-21T09:30:41.033039Z",
     "shell.execute_reply": "2025-07-21T09:30:41.032347Z",
     "shell.execute_reply.started": "2025-07-21T09:22:04.612765Z"
    },
    "papermill": {
     "duration": 0.014674,
     "end_time": "2025-07-21T10:27:53.481523",
     "exception": false,
     "start_time": "2025-07-21T10:27:53.466849",
     "status": "completed"
    },
    "tags": []
   },
   "outputs": [],
   "source": [
    "\n",
    "\n",
    "\n",
    "\n",
    "\n",
    "\n",
    "\n",
    "\n",
    "\n",
    "\n",
    "\n",
    "\n",
    "\n",
    "\n",
    "\n",
    "\n",
    "\n",
    "\n",
    "\n",
    "\n",
    "\n",
    "\n"
   ]
  },
  {
   "cell_type": "code",
   "execution_count": 29,
   "id": "f6f6a7cd",
   "metadata": {
    "execution": {
     "iopub.execute_input": "2025-07-21T10:27:53.512129Z",
     "iopub.status.busy": "2025-07-21T10:27:53.511911Z",
     "iopub.status.idle": "2025-07-21T10:27:53.515902Z",
     "shell.execute_reply": "2025-07-21T10:27:53.515236Z"
    },
    "papermill": {
     "duration": 0.020254,
     "end_time": "2025-07-21T10:27:53.516863",
     "exception": false,
     "start_time": "2025-07-21T10:27:53.496609",
     "status": "completed"
    },
    "tags": []
   },
   "outputs": [
    {
     "name": "stdout",
     "output_type": "stream",
     "text": [
      "📁 Files in working directory: ['catboost_info', '__notebook__.ipynb', 'submission.csv']\n"
     ]
    }
   ],
   "source": [
    "import os\n",
    "print(\"📁 Files in working directory:\", os.listdir('/kaggle/working'))"
   ]
  },
  {
   "cell_type": "code",
   "execution_count": null,
   "id": "320268f7",
   "metadata": {
    "papermill": {
     "duration": 0.014538,
     "end_time": "2025-07-21T10:27:53.546462",
     "exception": false,
     "start_time": "2025-07-21T10:27:53.531924",
     "status": "completed"
    },
    "tags": []
   },
   "outputs": [],
   "source": []
  }
 ],
 "metadata": {
  "kaggle": {
   "accelerator": "gpu",
   "dataSources": [
    {
     "databundleVersionId": 13009703,
     "sourceId": 107399,
     "sourceType": "competition"
    }
   ],
   "dockerImageVersionId": 31090,
   "isGpuEnabled": true,
   "isInternetEnabled": true,
   "language": "python",
   "sourceType": "notebook"
  },
  "kernelspec": {
   "display_name": "Python 3",
   "language": "python",
   "name": "python3"
  },
  "language_info": {
   "codemirror_mode": {
    "name": "ipython",
    "version": 3
   },
   "file_extension": ".py",
   "mimetype": "text/x-python",
   "name": "python",
   "nbconvert_exporter": "python",
   "pygments_lexer": "ipython3",
   "version": "3.11.13"
  },
  "papermill": {
   "default_parameters": {},
   "duration": 565.897931,
   "end_time": "2025-07-21T10:27:54.480729",
   "environment_variables": {},
   "exception": null,
   "input_path": "__notebook__.ipynb",
   "output_path": "__notebook__.ipynb",
   "parameters": {},
   "start_time": "2025-07-21T10:18:28.582798",
   "version": "2.6.0"
  }
 },
 "nbformat": 4,
 "nbformat_minor": 5
}
